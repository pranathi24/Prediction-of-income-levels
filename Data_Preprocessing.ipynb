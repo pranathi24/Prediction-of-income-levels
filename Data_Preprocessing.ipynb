{
 "cells": [
  {
   "cell_type": "markdown",
   "id": "df0b6382",
   "metadata": {},
   "source": [
    "# Project - Deliverables\n",
    "\n",
    "## Part 1: Data Pre-Processing"
   ]
  },
  {
   "cell_type": "markdown",
   "id": "4462224c",
   "metadata": {},
   "source": [
    "## Introduction\n",
    "\n",
    "\n",
    "We are going to look at the census data which was extracted by Barry Becker from the 1994 Census database.The name of our dataset is \"adult\". In this dataset we have 14 features/attributes(age, workclass, fnlwgt,education,education num,marital status,occupation, relationship,race,sex,capital_gain,capital_loss,hrs per week and native country) and 1 target variable - Income(binary). Using all the formerly mentioned attributes our target(income per annum) variable is classified into two categories \n",
    "<=50k \n",
    "and >50k per year.Since this dataset is old and has been collected in 1994 in order to make use of this dataset in recent times we need to add another column called income_adjusted column by using the inflation rate for united states we are going to calculate the equivalent amount of 50k per year in 1994 to the per annum income in 2023. This step will be explained in detail while exploring the dataset. We'll be focusing on the data of United States because of the dominance of service and tech industry in US. \n",
    "\n",
    "This classification model can be used in many ways for service based industries like Insurance, Credit card companies, Marketing companies where targeted customer marketing is essential and they'll know which sample of population is more prone to buy their product or service. This project will be in two parts\n",
    "\n",
    "In the First part data pre-processing is done where we clean the data, and prepare it for data analysis.(Steps are explained in detail further).\n",
    "In the Second part we run ML models to classify population based on their annual income.(Another Notebook)\n",
    "\n",
    "\n",
    "In this Notebook we will demonstrate the data pre-processing steps. A glimpse of the following tasks is provided below.\n",
    "\n",
    "1. Loading data into a dataframe.\n",
    "2. Explore the shape of the data.\n",
    "3. Rename column names.\n",
    "4. Drop any columns we don't require to decrease dimensionality and complexity.\n",
    "5. Identify missing data.\n",
    "6. Drop rows with too many missing data measures(typically a threshold of 10% missing values in each column).\n",
    "7. Impute the missing values for rows that are only missing very small number of values.\n",
    "8. Dummy encoding of the categorical variables.\n",
    "9. Store the pre-processed data in to a csv file for running the models using this dataset.\n",
    "\n",
    "Let's begin the process by importing required libraries."
   ]
  },
  {
   "cell_type": "markdown",
   "id": "5112549b",
   "metadata": {},
   "source": [
    "## Purpose of this classification.\n",
    "\n",
    "\n",
    "- This classification can be used to solve many business problems especially in marketing, income categories are used to target specific customer segments. Businesses may tailor their marketing strategies and product offerings based on income groups. For example, luxury brands target customers with higher income, while discount stores target budget-conscious consumers.\n",
    "- Income classification is crucial in market research to analyze consumer behavior, spending habits, and product preferences within different income groups. This information helps companies optimize their product lines and marketing campaigns.\n",
    "- In the financial industry, income classification is essential for assessing credit risk. Lenders use income data to determine an applicant's ability to repay a loan. Different income categories may influence lending decisions and interest rates.\n",
    "- And many more uses like the government will draft welfare programs based on the income distribution aka disparities among different genders and race wise distribution to embrace diversity and welfare of the people. Income classifications are often included in consumer surveys to segment survey responses and analyze data based on income groups. This helps researchers draw insights from survey data.\n",
    "\n",
    "These are some of the uses of this classification, which ensures it's reproducibility and interpretability because of the breakdown of each step followed in this analysis and data pre-processing."
   ]
  },
  {
   "cell_type": "markdown",
   "id": "2aa7f50a",
   "metadata": {},
   "source": [
    "## 0.  Import the required libraries"
   ]
  },
  {
   "cell_type": "markdown",
   "id": "6957e2a4",
   "metadata": {},
   "source": [
    "We use the pandas, the Python data anlysis library, for handling data & to make it analysis ready."
   ]
  },
  {
   "cell_type": "code",
   "execution_count": 53,
   "id": "b22b05cc",
   "metadata": {},
   "outputs": [
    {
     "name": "stdout",
     "output_type": "stream",
     "text": [
      "Requirement already satisfied: ucimlrepo in /Users/priyaankareddyb/anaconda3/lib/python3.11/site-packages (0.0.3)\n",
      "Note: you may need to restart the kernel to use updated packages.\n"
     ]
    }
   ],
   "source": [
    "pip install ucimlrepo"
   ]
  },
  {
   "cell_type": "code",
   "execution_count": 1,
   "id": "e0ec6ab3",
   "metadata": {
    "tags": []
   },
   "outputs": [],
   "source": [
    "import pandas as pd\n",
    "import numpy as np\n",
    "from ucimlrepo import fetch_ucirepo\n",
    "import matplotlib.pylab as plt\n",
    "from sklearn.impute import SimpleImputer\n",
    "import matplotlib.pyplot as plt\n",
    "import seaborn as sns\n",
    "\n",
    "np.random.seed(42)"
   ]
  },
  {
   "cell_type": "markdown",
   "id": "2193ea7d",
   "metadata": {},
   "source": [
    "Now that we've imported the required libraries, let's import our dataset into our python environment for data cleaning and data pre-processing."
   ]
  },
  {
   "cell_type": "markdown",
   "id": "929573c9",
   "metadata": {},
   "source": [
    "## 1.Import Data"
   ]
  },
  {
   "cell_type": "code",
   "execution_count": 2,
   "id": "c5a1aadf",
   "metadata": {
    "tags": []
   },
   "outputs": [],
   "source": [
    "# fetch dataset \n",
    "adult = fetch_ucirepo(id=2) \n",
    "  \n",
    "# data (as pandas dataframes) \n",
    "X = adult.data.features \n",
    "y = adult.data.targets \n",
    "\n",
    "# Combine into a single dataframe\n",
    "adult_df = pd.concat([X, y], axis=1)"
   ]
  },
  {
   "cell_type": "markdown",
   "id": "3d2cfd40",
   "metadata": {},
   "source": [
    "To check whether the data is correctly imported or not we can look at the first 10 rows of our dataframe using `head` method in dataframes."
   ]
  },
  {
   "cell_type": "code",
   "execution_count": 63,
   "id": "f178b2f5",
   "metadata": {
    "tags": []
   },
   "outputs": [
    {
     "data": {
      "text/html": [
       "<div>\n",
       "<style scoped>\n",
       "    .dataframe tbody tr th:only-of-type {\n",
       "        vertical-align: middle;\n",
       "    }\n",
       "\n",
       "    .dataframe tbody tr th {\n",
       "        vertical-align: top;\n",
       "    }\n",
       "\n",
       "    .dataframe thead th {\n",
       "        text-align: right;\n",
       "    }\n",
       "</style>\n",
       "<table border=\"1\" class=\"dataframe\">\n",
       "  <thead>\n",
       "    <tr style=\"text-align: right;\">\n",
       "      <th></th>\n",
       "      <th>age</th>\n",
       "      <th>workclass</th>\n",
       "      <th>fnlwgt</th>\n",
       "      <th>education</th>\n",
       "      <th>education-num</th>\n",
       "      <th>marital-status</th>\n",
       "      <th>occupation</th>\n",
       "      <th>relationship</th>\n",
       "      <th>race</th>\n",
       "      <th>sex</th>\n",
       "      <th>capital-gain</th>\n",
       "      <th>capital-loss</th>\n",
       "      <th>hours-per-week</th>\n",
       "      <th>native-country</th>\n",
       "      <th>income</th>\n",
       "    </tr>\n",
       "  </thead>\n",
       "  <tbody>\n",
       "    <tr>\n",
       "      <th>0</th>\n",
       "      <td>39</td>\n",
       "      <td>State-gov</td>\n",
       "      <td>77516</td>\n",
       "      <td>Bachelors</td>\n",
       "      <td>13</td>\n",
       "      <td>Never-married</td>\n",
       "      <td>Adm-clerical</td>\n",
       "      <td>Not-in-family</td>\n",
       "      <td>White</td>\n",
       "      <td>Male</td>\n",
       "      <td>2174</td>\n",
       "      <td>0</td>\n",
       "      <td>40</td>\n",
       "      <td>United-States</td>\n",
       "      <td>&lt;=50K</td>\n",
       "    </tr>\n",
       "    <tr>\n",
       "      <th>1</th>\n",
       "      <td>50</td>\n",
       "      <td>Self-emp-not-inc</td>\n",
       "      <td>83311</td>\n",
       "      <td>Bachelors</td>\n",
       "      <td>13</td>\n",
       "      <td>Married-civ-spouse</td>\n",
       "      <td>Exec-managerial</td>\n",
       "      <td>Husband</td>\n",
       "      <td>White</td>\n",
       "      <td>Male</td>\n",
       "      <td>0</td>\n",
       "      <td>0</td>\n",
       "      <td>13</td>\n",
       "      <td>United-States</td>\n",
       "      <td>&lt;=50K</td>\n",
       "    </tr>\n",
       "    <tr>\n",
       "      <th>2</th>\n",
       "      <td>38</td>\n",
       "      <td>Private</td>\n",
       "      <td>215646</td>\n",
       "      <td>HS-grad</td>\n",
       "      <td>9</td>\n",
       "      <td>Divorced</td>\n",
       "      <td>Handlers-cleaners</td>\n",
       "      <td>Not-in-family</td>\n",
       "      <td>White</td>\n",
       "      <td>Male</td>\n",
       "      <td>0</td>\n",
       "      <td>0</td>\n",
       "      <td>40</td>\n",
       "      <td>United-States</td>\n",
       "      <td>&lt;=50K</td>\n",
       "    </tr>\n",
       "    <tr>\n",
       "      <th>3</th>\n",
       "      <td>53</td>\n",
       "      <td>Private</td>\n",
       "      <td>234721</td>\n",
       "      <td>11th</td>\n",
       "      <td>7</td>\n",
       "      <td>Married-civ-spouse</td>\n",
       "      <td>Handlers-cleaners</td>\n",
       "      <td>Husband</td>\n",
       "      <td>Black</td>\n",
       "      <td>Male</td>\n",
       "      <td>0</td>\n",
       "      <td>0</td>\n",
       "      <td>40</td>\n",
       "      <td>United-States</td>\n",
       "      <td>&lt;=50K</td>\n",
       "    </tr>\n",
       "    <tr>\n",
       "      <th>4</th>\n",
       "      <td>28</td>\n",
       "      <td>Private</td>\n",
       "      <td>338409</td>\n",
       "      <td>Bachelors</td>\n",
       "      <td>13</td>\n",
       "      <td>Married-civ-spouse</td>\n",
       "      <td>Prof-specialty</td>\n",
       "      <td>Wife</td>\n",
       "      <td>Black</td>\n",
       "      <td>Female</td>\n",
       "      <td>0</td>\n",
       "      <td>0</td>\n",
       "      <td>40</td>\n",
       "      <td>Cuba</td>\n",
       "      <td>&lt;=50K</td>\n",
       "    </tr>\n",
       "    <tr>\n",
       "      <th>5</th>\n",
       "      <td>37</td>\n",
       "      <td>Private</td>\n",
       "      <td>284582</td>\n",
       "      <td>Masters</td>\n",
       "      <td>14</td>\n",
       "      <td>Married-civ-spouse</td>\n",
       "      <td>Exec-managerial</td>\n",
       "      <td>Wife</td>\n",
       "      <td>White</td>\n",
       "      <td>Female</td>\n",
       "      <td>0</td>\n",
       "      <td>0</td>\n",
       "      <td>40</td>\n",
       "      <td>United-States</td>\n",
       "      <td>&lt;=50K</td>\n",
       "    </tr>\n",
       "    <tr>\n",
       "      <th>6</th>\n",
       "      <td>49</td>\n",
       "      <td>Private</td>\n",
       "      <td>160187</td>\n",
       "      <td>9th</td>\n",
       "      <td>5</td>\n",
       "      <td>Married-spouse-absent</td>\n",
       "      <td>Other-service</td>\n",
       "      <td>Not-in-family</td>\n",
       "      <td>Black</td>\n",
       "      <td>Female</td>\n",
       "      <td>0</td>\n",
       "      <td>0</td>\n",
       "      <td>16</td>\n",
       "      <td>Jamaica</td>\n",
       "      <td>&lt;=50K</td>\n",
       "    </tr>\n",
       "    <tr>\n",
       "      <th>7</th>\n",
       "      <td>52</td>\n",
       "      <td>Self-emp-not-inc</td>\n",
       "      <td>209642</td>\n",
       "      <td>HS-grad</td>\n",
       "      <td>9</td>\n",
       "      <td>Married-civ-spouse</td>\n",
       "      <td>Exec-managerial</td>\n",
       "      <td>Husband</td>\n",
       "      <td>White</td>\n",
       "      <td>Male</td>\n",
       "      <td>0</td>\n",
       "      <td>0</td>\n",
       "      <td>45</td>\n",
       "      <td>United-States</td>\n",
       "      <td>&gt;50K</td>\n",
       "    </tr>\n",
       "    <tr>\n",
       "      <th>8</th>\n",
       "      <td>31</td>\n",
       "      <td>Private</td>\n",
       "      <td>45781</td>\n",
       "      <td>Masters</td>\n",
       "      <td>14</td>\n",
       "      <td>Never-married</td>\n",
       "      <td>Prof-specialty</td>\n",
       "      <td>Not-in-family</td>\n",
       "      <td>White</td>\n",
       "      <td>Female</td>\n",
       "      <td>14084</td>\n",
       "      <td>0</td>\n",
       "      <td>50</td>\n",
       "      <td>United-States</td>\n",
       "      <td>&gt;50K</td>\n",
       "    </tr>\n",
       "    <tr>\n",
       "      <th>9</th>\n",
       "      <td>42</td>\n",
       "      <td>Private</td>\n",
       "      <td>159449</td>\n",
       "      <td>Bachelors</td>\n",
       "      <td>13</td>\n",
       "      <td>Married-civ-spouse</td>\n",
       "      <td>Exec-managerial</td>\n",
       "      <td>Husband</td>\n",
       "      <td>White</td>\n",
       "      <td>Male</td>\n",
       "      <td>5178</td>\n",
       "      <td>0</td>\n",
       "      <td>40</td>\n",
       "      <td>United-States</td>\n",
       "      <td>&gt;50K</td>\n",
       "    </tr>\n",
       "  </tbody>\n",
       "</table>\n",
       "</div>"
      ],
      "text/plain": [
       "   age         workclass  fnlwgt  education  education-num  \\\n",
       "0   39         State-gov   77516  Bachelors             13   \n",
       "1   50  Self-emp-not-inc   83311  Bachelors             13   \n",
       "2   38           Private  215646    HS-grad              9   \n",
       "3   53           Private  234721       11th              7   \n",
       "4   28           Private  338409  Bachelors             13   \n",
       "5   37           Private  284582    Masters             14   \n",
       "6   49           Private  160187        9th              5   \n",
       "7   52  Self-emp-not-inc  209642    HS-grad              9   \n",
       "8   31           Private   45781    Masters             14   \n",
       "9   42           Private  159449  Bachelors             13   \n",
       "\n",
       "          marital-status         occupation   relationship   race     sex  \\\n",
       "0          Never-married       Adm-clerical  Not-in-family  White    Male   \n",
       "1     Married-civ-spouse    Exec-managerial        Husband  White    Male   \n",
       "2               Divorced  Handlers-cleaners  Not-in-family  White    Male   \n",
       "3     Married-civ-spouse  Handlers-cleaners        Husband  Black    Male   \n",
       "4     Married-civ-spouse     Prof-specialty           Wife  Black  Female   \n",
       "5     Married-civ-spouse    Exec-managerial           Wife  White  Female   \n",
       "6  Married-spouse-absent      Other-service  Not-in-family  Black  Female   \n",
       "7     Married-civ-spouse    Exec-managerial        Husband  White    Male   \n",
       "8          Never-married     Prof-specialty  Not-in-family  White  Female   \n",
       "9     Married-civ-spouse    Exec-managerial        Husband  White    Male   \n",
       "\n",
       "   capital-gain  capital-loss  hours-per-week native-country income  \n",
       "0          2174             0              40  United-States  <=50K  \n",
       "1             0             0              13  United-States  <=50K  \n",
       "2             0             0              40  United-States  <=50K  \n",
       "3             0             0              40  United-States  <=50K  \n",
       "4             0             0              40           Cuba  <=50K  \n",
       "5             0             0              40  United-States  <=50K  \n",
       "6             0             0              16        Jamaica  <=50K  \n",
       "7             0             0              45  United-States   >50K  \n",
       "8         14084             0              50  United-States   >50K  \n",
       "9          5178             0              40  United-States   >50K  "
      ]
     },
     "execution_count": 63,
     "metadata": {},
     "output_type": "execute_result"
    }
   ],
   "source": [
    "adult_df.head(10)"
   ]
  },
  {
   "cell_type": "markdown",
   "id": "faffc89a",
   "metadata": {},
   "source": [
    "Since this dataset is old and has been collected in 1994 in order to make use of this dataset in recent times we need to add another column called income_adjusted column  where using the inflation rate for US we are going to calculate the equivalent amount of 50k per year in 1994 to the per annum income in 2023. We can do this by appending the new income_adjusted column to this dataset. According to U.S. Bureau of Labor Statistics the cumulative inflation from 1994 to 2023 was 107.68% which accounts for average inflation rate per year as 2.55% (this was based on Consumer Price Index)."
   ]
  },
  {
   "cell_type": "code",
   "execution_count": 64,
   "id": "f368d8a8",
   "metadata": {
    "tags": []
   },
   "outputs": [
    {
     "data": {
      "text/plain": [
       "103778"
      ]
     },
     "execution_count": 64,
     "metadata": {},
     "output_type": "execute_result"
    }
   ],
   "source": [
    "avg_inflation_rate_per_year = 0.0255\n",
    "\n",
    "num_of_years = 2023 - 1994\n",
    "\n",
    "income_2023 = 50000 *(1+0.0255)**num_of_years\n",
    "\n",
    "round(income_2023)"
   ]
  },
  {
   "cell_type": "code",
   "execution_count": 65,
   "id": "5e07ead0",
   "metadata": {
    "tags": []
   },
   "outputs": [
    {
     "data": {
      "text/plain": [
       "array(['<=50K', '>50K', '<=50K.', '>50K.'], dtype=object)"
      ]
     },
     "execution_count": 65,
     "metadata": {},
     "output_type": "execute_result"
    }
   ],
   "source": [
    "adult_df['income'].unique()"
   ]
  },
  {
   "cell_type": "markdown",
   "id": "c477e1ae",
   "metadata": {},
   "source": [
    ">- Here we are observing 4 categories of the data but in real there are only 2 categories we are going to sort that and proceed with our new adjusted income column. So 50k per year in 1994 accounts for 103778 dollars per annum in 2023. Now we'll be adding a new column income_adjusted with threshold 104k to our dataset according to our recent dollar value and inflation rate which adds more value to our analysis. Let's do it "
   ]
  },
  {
   "cell_type": "code",
   "execution_count": 66,
   "id": "4364a2ee",
   "metadata": {
    "tags": []
   },
   "outputs": [],
   "source": [
    "adult_df['income'] = adult_df['income'].str.replace('<=50K.', '<=50K', regex=True).str.replace('>50K.', '>50K', regex=True)"
   ]
  },
  {
   "cell_type": "code",
   "execution_count": 67,
   "id": "ae5e44cf",
   "metadata": {
    "tags": []
   },
   "outputs": [
    {
     "data": {
      "text/html": [
       "<div>\n",
       "<style scoped>\n",
       "    .dataframe tbody tr th:only-of-type {\n",
       "        vertical-align: middle;\n",
       "    }\n",
       "\n",
       "    .dataframe tbody tr th {\n",
       "        vertical-align: top;\n",
       "    }\n",
       "\n",
       "    .dataframe thead th {\n",
       "        text-align: right;\n",
       "    }\n",
       "</style>\n",
       "<table border=\"1\" class=\"dataframe\">\n",
       "  <thead>\n",
       "    <tr style=\"text-align: right;\">\n",
       "      <th></th>\n",
       "      <th>age</th>\n",
       "      <th>workclass</th>\n",
       "      <th>fnlwgt</th>\n",
       "      <th>education</th>\n",
       "      <th>education-num</th>\n",
       "      <th>marital-status</th>\n",
       "      <th>occupation</th>\n",
       "      <th>relationship</th>\n",
       "      <th>race</th>\n",
       "      <th>sex</th>\n",
       "      <th>capital-gain</th>\n",
       "      <th>capital-loss</th>\n",
       "      <th>hours-per-week</th>\n",
       "      <th>native-country</th>\n",
       "      <th>income</th>\n",
       "      <th>income_adjusted</th>\n",
       "    </tr>\n",
       "  </thead>\n",
       "  <tbody>\n",
       "    <tr>\n",
       "      <th>0</th>\n",
       "      <td>39</td>\n",
       "      <td>State-gov</td>\n",
       "      <td>77516</td>\n",
       "      <td>Bachelors</td>\n",
       "      <td>13</td>\n",
       "      <td>Never-married</td>\n",
       "      <td>Adm-clerical</td>\n",
       "      <td>Not-in-family</td>\n",
       "      <td>White</td>\n",
       "      <td>Male</td>\n",
       "      <td>2174</td>\n",
       "      <td>0</td>\n",
       "      <td>40</td>\n",
       "      <td>United-States</td>\n",
       "      <td>&lt;=50K</td>\n",
       "      <td>&lt;=104K</td>\n",
       "    </tr>\n",
       "    <tr>\n",
       "      <th>1</th>\n",
       "      <td>50</td>\n",
       "      <td>Self-emp-not-inc</td>\n",
       "      <td>83311</td>\n",
       "      <td>Bachelors</td>\n",
       "      <td>13</td>\n",
       "      <td>Married-civ-spouse</td>\n",
       "      <td>Exec-managerial</td>\n",
       "      <td>Husband</td>\n",
       "      <td>White</td>\n",
       "      <td>Male</td>\n",
       "      <td>0</td>\n",
       "      <td>0</td>\n",
       "      <td>13</td>\n",
       "      <td>United-States</td>\n",
       "      <td>&lt;=50K</td>\n",
       "      <td>&lt;=104K</td>\n",
       "    </tr>\n",
       "    <tr>\n",
       "      <th>2</th>\n",
       "      <td>38</td>\n",
       "      <td>Private</td>\n",
       "      <td>215646</td>\n",
       "      <td>HS-grad</td>\n",
       "      <td>9</td>\n",
       "      <td>Divorced</td>\n",
       "      <td>Handlers-cleaners</td>\n",
       "      <td>Not-in-family</td>\n",
       "      <td>White</td>\n",
       "      <td>Male</td>\n",
       "      <td>0</td>\n",
       "      <td>0</td>\n",
       "      <td>40</td>\n",
       "      <td>United-States</td>\n",
       "      <td>&lt;=50K</td>\n",
       "      <td>&lt;=104K</td>\n",
       "    </tr>\n",
       "    <tr>\n",
       "      <th>3</th>\n",
       "      <td>53</td>\n",
       "      <td>Private</td>\n",
       "      <td>234721</td>\n",
       "      <td>11th</td>\n",
       "      <td>7</td>\n",
       "      <td>Married-civ-spouse</td>\n",
       "      <td>Handlers-cleaners</td>\n",
       "      <td>Husband</td>\n",
       "      <td>Black</td>\n",
       "      <td>Male</td>\n",
       "      <td>0</td>\n",
       "      <td>0</td>\n",
       "      <td>40</td>\n",
       "      <td>United-States</td>\n",
       "      <td>&lt;=50K</td>\n",
       "      <td>&lt;=104K</td>\n",
       "    </tr>\n",
       "    <tr>\n",
       "      <th>4</th>\n",
       "      <td>28</td>\n",
       "      <td>Private</td>\n",
       "      <td>338409</td>\n",
       "      <td>Bachelors</td>\n",
       "      <td>13</td>\n",
       "      <td>Married-civ-spouse</td>\n",
       "      <td>Prof-specialty</td>\n",
       "      <td>Wife</td>\n",
       "      <td>Black</td>\n",
       "      <td>Female</td>\n",
       "      <td>0</td>\n",
       "      <td>0</td>\n",
       "      <td>40</td>\n",
       "      <td>Cuba</td>\n",
       "      <td>&lt;=50K</td>\n",
       "      <td>&lt;=104K</td>\n",
       "    </tr>\n",
       "    <tr>\n",
       "      <th>5</th>\n",
       "      <td>37</td>\n",
       "      <td>Private</td>\n",
       "      <td>284582</td>\n",
       "      <td>Masters</td>\n",
       "      <td>14</td>\n",
       "      <td>Married-civ-spouse</td>\n",
       "      <td>Exec-managerial</td>\n",
       "      <td>Wife</td>\n",
       "      <td>White</td>\n",
       "      <td>Female</td>\n",
       "      <td>0</td>\n",
       "      <td>0</td>\n",
       "      <td>40</td>\n",
       "      <td>United-States</td>\n",
       "      <td>&lt;=50K</td>\n",
       "      <td>&lt;=104K</td>\n",
       "    </tr>\n",
       "    <tr>\n",
       "      <th>6</th>\n",
       "      <td>49</td>\n",
       "      <td>Private</td>\n",
       "      <td>160187</td>\n",
       "      <td>9th</td>\n",
       "      <td>5</td>\n",
       "      <td>Married-spouse-absent</td>\n",
       "      <td>Other-service</td>\n",
       "      <td>Not-in-family</td>\n",
       "      <td>Black</td>\n",
       "      <td>Female</td>\n",
       "      <td>0</td>\n",
       "      <td>0</td>\n",
       "      <td>16</td>\n",
       "      <td>Jamaica</td>\n",
       "      <td>&lt;=50K</td>\n",
       "      <td>&lt;=104K</td>\n",
       "    </tr>\n",
       "    <tr>\n",
       "      <th>7</th>\n",
       "      <td>52</td>\n",
       "      <td>Self-emp-not-inc</td>\n",
       "      <td>209642</td>\n",
       "      <td>HS-grad</td>\n",
       "      <td>9</td>\n",
       "      <td>Married-civ-spouse</td>\n",
       "      <td>Exec-managerial</td>\n",
       "      <td>Husband</td>\n",
       "      <td>White</td>\n",
       "      <td>Male</td>\n",
       "      <td>0</td>\n",
       "      <td>0</td>\n",
       "      <td>45</td>\n",
       "      <td>United-States</td>\n",
       "      <td>&gt;50K</td>\n",
       "      <td>&gt;104K</td>\n",
       "    </tr>\n",
       "    <tr>\n",
       "      <th>8</th>\n",
       "      <td>31</td>\n",
       "      <td>Private</td>\n",
       "      <td>45781</td>\n",
       "      <td>Masters</td>\n",
       "      <td>14</td>\n",
       "      <td>Never-married</td>\n",
       "      <td>Prof-specialty</td>\n",
       "      <td>Not-in-family</td>\n",
       "      <td>White</td>\n",
       "      <td>Female</td>\n",
       "      <td>14084</td>\n",
       "      <td>0</td>\n",
       "      <td>50</td>\n",
       "      <td>United-States</td>\n",
       "      <td>&gt;50K</td>\n",
       "      <td>&gt;104K</td>\n",
       "    </tr>\n",
       "    <tr>\n",
       "      <th>9</th>\n",
       "      <td>42</td>\n",
       "      <td>Private</td>\n",
       "      <td>159449</td>\n",
       "      <td>Bachelors</td>\n",
       "      <td>13</td>\n",
       "      <td>Married-civ-spouse</td>\n",
       "      <td>Exec-managerial</td>\n",
       "      <td>Husband</td>\n",
       "      <td>White</td>\n",
       "      <td>Male</td>\n",
       "      <td>5178</td>\n",
       "      <td>0</td>\n",
       "      <td>40</td>\n",
       "      <td>United-States</td>\n",
       "      <td>&gt;50K</td>\n",
       "      <td>&gt;104K</td>\n",
       "    </tr>\n",
       "  </tbody>\n",
       "</table>\n",
       "</div>"
      ],
      "text/plain": [
       "   age         workclass  fnlwgt  education  education-num  \\\n",
       "0   39         State-gov   77516  Bachelors             13   \n",
       "1   50  Self-emp-not-inc   83311  Bachelors             13   \n",
       "2   38           Private  215646    HS-grad              9   \n",
       "3   53           Private  234721       11th              7   \n",
       "4   28           Private  338409  Bachelors             13   \n",
       "5   37           Private  284582    Masters             14   \n",
       "6   49           Private  160187        9th              5   \n",
       "7   52  Self-emp-not-inc  209642    HS-grad              9   \n",
       "8   31           Private   45781    Masters             14   \n",
       "9   42           Private  159449  Bachelors             13   \n",
       "\n",
       "          marital-status         occupation   relationship   race     sex  \\\n",
       "0          Never-married       Adm-clerical  Not-in-family  White    Male   \n",
       "1     Married-civ-spouse    Exec-managerial        Husband  White    Male   \n",
       "2               Divorced  Handlers-cleaners  Not-in-family  White    Male   \n",
       "3     Married-civ-spouse  Handlers-cleaners        Husband  Black    Male   \n",
       "4     Married-civ-spouse     Prof-specialty           Wife  Black  Female   \n",
       "5     Married-civ-spouse    Exec-managerial           Wife  White  Female   \n",
       "6  Married-spouse-absent      Other-service  Not-in-family  Black  Female   \n",
       "7     Married-civ-spouse    Exec-managerial        Husband  White    Male   \n",
       "8          Never-married     Prof-specialty  Not-in-family  White  Female   \n",
       "9     Married-civ-spouse    Exec-managerial        Husband  White    Male   \n",
       "\n",
       "   capital-gain  capital-loss  hours-per-week native-country income  \\\n",
       "0          2174             0              40  United-States  <=50K   \n",
       "1             0             0              13  United-States  <=50K   \n",
       "2             0             0              40  United-States  <=50K   \n",
       "3             0             0              40  United-States  <=50K   \n",
       "4             0             0              40           Cuba  <=50K   \n",
       "5             0             0              40  United-States  <=50K   \n",
       "6             0             0              16        Jamaica  <=50K   \n",
       "7             0             0              45  United-States   >50K   \n",
       "8         14084             0              50  United-States   >50K   \n",
       "9          5178             0              40  United-States   >50K   \n",
       "\n",
       "  income_adjusted  \n",
       "0          <=104K  \n",
       "1          <=104K  \n",
       "2          <=104K  \n",
       "3          <=104K  \n",
       "4          <=104K  \n",
       "5          <=104K  \n",
       "6          <=104K  \n",
       "7           >104K  \n",
       "8           >104K  \n",
       "9           >104K  "
      ]
     },
     "execution_count": 67,
     "metadata": {},
     "output_type": "execute_result"
    }
   ],
   "source": [
    "def adjust_income(income):\n",
    "    if income == '>50K':\n",
    "        return '>104K'\n",
    "    elif income == '<=50K':\n",
    "        return '<=104K'\n",
    "    else:\n",
    "        return income\n",
    "\n",
    "adult_df['income_adjusted'] = adult_df['income'].apply(adjust_income)\n",
    "\n",
    "adult_df.head(10)"
   ]
  },
  {
   "cell_type": "markdown",
   "id": "9b284f67",
   "metadata": {},
   "source": [
    "We can check for the unique values in our new income_adjusted column to verify that we've done the transformation correctly."
   ]
  },
  {
   "cell_type": "code",
   "execution_count": 68,
   "id": "02da1369",
   "metadata": {
    "tags": []
   },
   "outputs": [
    {
     "data": {
      "text/plain": [
       "array(['<=104K', '>104K'], dtype=object)"
      ]
     },
     "execution_count": 68,
     "metadata": {},
     "output_type": "execute_result"
    }
   ],
   "source": [
    "adult_df['income_adjusted'].unique()"
   ]
  },
  {
   "cell_type": "code",
   "execution_count": 69,
   "id": "1045eaa6",
   "metadata": {
    "tags": []
   },
   "outputs": [],
   "source": [
    "# drop income column since we don't need it anymore\n",
    "\n",
    "adult_df.drop('income', axis=1, inplace=True)"
   ]
  },
  {
   "cell_type": "code",
   "execution_count": 70,
   "id": "ac02a432",
   "metadata": {
    "tags": []
   },
   "outputs": [
    {
     "data": {
      "text/html": [
       "<div>\n",
       "<style scoped>\n",
       "    .dataframe tbody tr th:only-of-type {\n",
       "        vertical-align: middle;\n",
       "    }\n",
       "\n",
       "    .dataframe tbody tr th {\n",
       "        vertical-align: top;\n",
       "    }\n",
       "\n",
       "    .dataframe thead th {\n",
       "        text-align: right;\n",
       "    }\n",
       "</style>\n",
       "<table border=\"1\" class=\"dataframe\">\n",
       "  <thead>\n",
       "    <tr style=\"text-align: right;\">\n",
       "      <th></th>\n",
       "      <th>age</th>\n",
       "      <th>workclass</th>\n",
       "      <th>fnlwgt</th>\n",
       "      <th>education</th>\n",
       "      <th>education-num</th>\n",
       "      <th>marital-status</th>\n",
       "      <th>occupation</th>\n",
       "      <th>relationship</th>\n",
       "      <th>race</th>\n",
       "      <th>sex</th>\n",
       "      <th>capital-gain</th>\n",
       "      <th>capital-loss</th>\n",
       "      <th>hours-per-week</th>\n",
       "      <th>native-country</th>\n",
       "      <th>income_adjusted</th>\n",
       "    </tr>\n",
       "  </thead>\n",
       "  <tbody>\n",
       "    <tr>\n",
       "      <th>0</th>\n",
       "      <td>39</td>\n",
       "      <td>State-gov</td>\n",
       "      <td>77516</td>\n",
       "      <td>Bachelors</td>\n",
       "      <td>13</td>\n",
       "      <td>Never-married</td>\n",
       "      <td>Adm-clerical</td>\n",
       "      <td>Not-in-family</td>\n",
       "      <td>White</td>\n",
       "      <td>Male</td>\n",
       "      <td>2174</td>\n",
       "      <td>0</td>\n",
       "      <td>40</td>\n",
       "      <td>United-States</td>\n",
       "      <td>&lt;=104K</td>\n",
       "    </tr>\n",
       "    <tr>\n",
       "      <th>1</th>\n",
       "      <td>50</td>\n",
       "      <td>Self-emp-not-inc</td>\n",
       "      <td>83311</td>\n",
       "      <td>Bachelors</td>\n",
       "      <td>13</td>\n",
       "      <td>Married-civ-spouse</td>\n",
       "      <td>Exec-managerial</td>\n",
       "      <td>Husband</td>\n",
       "      <td>White</td>\n",
       "      <td>Male</td>\n",
       "      <td>0</td>\n",
       "      <td>0</td>\n",
       "      <td>13</td>\n",
       "      <td>United-States</td>\n",
       "      <td>&lt;=104K</td>\n",
       "    </tr>\n",
       "    <tr>\n",
       "      <th>2</th>\n",
       "      <td>38</td>\n",
       "      <td>Private</td>\n",
       "      <td>215646</td>\n",
       "      <td>HS-grad</td>\n",
       "      <td>9</td>\n",
       "      <td>Divorced</td>\n",
       "      <td>Handlers-cleaners</td>\n",
       "      <td>Not-in-family</td>\n",
       "      <td>White</td>\n",
       "      <td>Male</td>\n",
       "      <td>0</td>\n",
       "      <td>0</td>\n",
       "      <td>40</td>\n",
       "      <td>United-States</td>\n",
       "      <td>&lt;=104K</td>\n",
       "    </tr>\n",
       "    <tr>\n",
       "      <th>3</th>\n",
       "      <td>53</td>\n",
       "      <td>Private</td>\n",
       "      <td>234721</td>\n",
       "      <td>11th</td>\n",
       "      <td>7</td>\n",
       "      <td>Married-civ-spouse</td>\n",
       "      <td>Handlers-cleaners</td>\n",
       "      <td>Husband</td>\n",
       "      <td>Black</td>\n",
       "      <td>Male</td>\n",
       "      <td>0</td>\n",
       "      <td>0</td>\n",
       "      <td>40</td>\n",
       "      <td>United-States</td>\n",
       "      <td>&lt;=104K</td>\n",
       "    </tr>\n",
       "    <tr>\n",
       "      <th>4</th>\n",
       "      <td>28</td>\n",
       "      <td>Private</td>\n",
       "      <td>338409</td>\n",
       "      <td>Bachelors</td>\n",
       "      <td>13</td>\n",
       "      <td>Married-civ-spouse</td>\n",
       "      <td>Prof-specialty</td>\n",
       "      <td>Wife</td>\n",
       "      <td>Black</td>\n",
       "      <td>Female</td>\n",
       "      <td>0</td>\n",
       "      <td>0</td>\n",
       "      <td>40</td>\n",
       "      <td>Cuba</td>\n",
       "      <td>&lt;=104K</td>\n",
       "    </tr>\n",
       "    <tr>\n",
       "      <th>5</th>\n",
       "      <td>37</td>\n",
       "      <td>Private</td>\n",
       "      <td>284582</td>\n",
       "      <td>Masters</td>\n",
       "      <td>14</td>\n",
       "      <td>Married-civ-spouse</td>\n",
       "      <td>Exec-managerial</td>\n",
       "      <td>Wife</td>\n",
       "      <td>White</td>\n",
       "      <td>Female</td>\n",
       "      <td>0</td>\n",
       "      <td>0</td>\n",
       "      <td>40</td>\n",
       "      <td>United-States</td>\n",
       "      <td>&lt;=104K</td>\n",
       "    </tr>\n",
       "    <tr>\n",
       "      <th>6</th>\n",
       "      <td>49</td>\n",
       "      <td>Private</td>\n",
       "      <td>160187</td>\n",
       "      <td>9th</td>\n",
       "      <td>5</td>\n",
       "      <td>Married-spouse-absent</td>\n",
       "      <td>Other-service</td>\n",
       "      <td>Not-in-family</td>\n",
       "      <td>Black</td>\n",
       "      <td>Female</td>\n",
       "      <td>0</td>\n",
       "      <td>0</td>\n",
       "      <td>16</td>\n",
       "      <td>Jamaica</td>\n",
       "      <td>&lt;=104K</td>\n",
       "    </tr>\n",
       "    <tr>\n",
       "      <th>7</th>\n",
       "      <td>52</td>\n",
       "      <td>Self-emp-not-inc</td>\n",
       "      <td>209642</td>\n",
       "      <td>HS-grad</td>\n",
       "      <td>9</td>\n",
       "      <td>Married-civ-spouse</td>\n",
       "      <td>Exec-managerial</td>\n",
       "      <td>Husband</td>\n",
       "      <td>White</td>\n",
       "      <td>Male</td>\n",
       "      <td>0</td>\n",
       "      <td>0</td>\n",
       "      <td>45</td>\n",
       "      <td>United-States</td>\n",
       "      <td>&gt;104K</td>\n",
       "    </tr>\n",
       "    <tr>\n",
       "      <th>8</th>\n",
       "      <td>31</td>\n",
       "      <td>Private</td>\n",
       "      <td>45781</td>\n",
       "      <td>Masters</td>\n",
       "      <td>14</td>\n",
       "      <td>Never-married</td>\n",
       "      <td>Prof-specialty</td>\n",
       "      <td>Not-in-family</td>\n",
       "      <td>White</td>\n",
       "      <td>Female</td>\n",
       "      <td>14084</td>\n",
       "      <td>0</td>\n",
       "      <td>50</td>\n",
       "      <td>United-States</td>\n",
       "      <td>&gt;104K</td>\n",
       "    </tr>\n",
       "    <tr>\n",
       "      <th>9</th>\n",
       "      <td>42</td>\n",
       "      <td>Private</td>\n",
       "      <td>159449</td>\n",
       "      <td>Bachelors</td>\n",
       "      <td>13</td>\n",
       "      <td>Married-civ-spouse</td>\n",
       "      <td>Exec-managerial</td>\n",
       "      <td>Husband</td>\n",
       "      <td>White</td>\n",
       "      <td>Male</td>\n",
       "      <td>5178</td>\n",
       "      <td>0</td>\n",
       "      <td>40</td>\n",
       "      <td>United-States</td>\n",
       "      <td>&gt;104K</td>\n",
       "    </tr>\n",
       "  </tbody>\n",
       "</table>\n",
       "</div>"
      ],
      "text/plain": [
       "   age         workclass  fnlwgt  education  education-num  \\\n",
       "0   39         State-gov   77516  Bachelors             13   \n",
       "1   50  Self-emp-not-inc   83311  Bachelors             13   \n",
       "2   38           Private  215646    HS-grad              9   \n",
       "3   53           Private  234721       11th              7   \n",
       "4   28           Private  338409  Bachelors             13   \n",
       "5   37           Private  284582    Masters             14   \n",
       "6   49           Private  160187        9th              5   \n",
       "7   52  Self-emp-not-inc  209642    HS-grad              9   \n",
       "8   31           Private   45781    Masters             14   \n",
       "9   42           Private  159449  Bachelors             13   \n",
       "\n",
       "          marital-status         occupation   relationship   race     sex  \\\n",
       "0          Never-married       Adm-clerical  Not-in-family  White    Male   \n",
       "1     Married-civ-spouse    Exec-managerial        Husband  White    Male   \n",
       "2               Divorced  Handlers-cleaners  Not-in-family  White    Male   \n",
       "3     Married-civ-spouse  Handlers-cleaners        Husband  Black    Male   \n",
       "4     Married-civ-spouse     Prof-specialty           Wife  Black  Female   \n",
       "5     Married-civ-spouse    Exec-managerial           Wife  White  Female   \n",
       "6  Married-spouse-absent      Other-service  Not-in-family  Black  Female   \n",
       "7     Married-civ-spouse    Exec-managerial        Husband  White    Male   \n",
       "8          Never-married     Prof-specialty  Not-in-family  White  Female   \n",
       "9     Married-civ-spouse    Exec-managerial        Husband  White    Male   \n",
       "\n",
       "   capital-gain  capital-loss  hours-per-week native-country income_adjusted  \n",
       "0          2174             0              40  United-States          <=104K  \n",
       "1             0             0              13  United-States          <=104K  \n",
       "2             0             0              40  United-States          <=104K  \n",
       "3             0             0              40  United-States          <=104K  \n",
       "4             0             0              40           Cuba          <=104K  \n",
       "5             0             0              40  United-States          <=104K  \n",
       "6             0             0              16        Jamaica          <=104K  \n",
       "7             0             0              45  United-States           >104K  \n",
       "8         14084             0              50  United-States           >104K  \n",
       "9          5178             0              40  United-States           >104K  "
      ]
     },
     "execution_count": 70,
     "metadata": {},
     "output_type": "execute_result"
    }
   ],
   "source": [
    "adult_df.head(10)"
   ]
  },
  {
   "cell_type": "markdown",
   "id": "954d120f",
   "metadata": {},
   "source": [
    "Since we are adjusting income for inflation to compare it with a certain financial goal or threshold, it might not be necessary to adjust capital gains and losses, as they represent different aspects of financial activity.\n",
    "\n",
    ">- Inflation Impact: The impact of inflation on capital gains and losses may vary depending on the specific assets involved. Some assets may appreciate or depreciate differently compared to the average inflation rate. Therefore, adjusting capital gains and losses for inflation might not be straightforward and could introduce complexity. That is why it has been avoided in this data pre-processing "
   ]
  },
  {
   "cell_type": "markdown",
   "id": "4fe02a25",
   "metadata": {},
   "source": [
    "## 2. Explore the dimensions of our dataset"
   ]
  },
  {
   "cell_type": "markdown",
   "id": "cb86a8d5",
   "metadata": {},
   "source": [
    "Since we've loaded the data correctly it's time to explore the dimensions of our dataframe(rows & columns). We can do this using `shape` method on our dataframe."
   ]
  },
  {
   "cell_type": "code",
   "execution_count": 71,
   "id": "b3690daf",
   "metadata": {
    "tags": []
   },
   "outputs": [
    {
     "name": "stdout",
     "output_type": "stream",
     "text": [
      "Number of Rows = 48842\n",
      "Number of Colums = 15\n"
     ]
    }
   ],
   "source": [
    "adult_df.shape\n",
    "\n",
    "#Store rows & columns in rows and cols variables\n",
    "rows = adult_df.shape[0]\n",
    "cols = adult_df.shape[1]\n",
    "\n",
    "# Print them using string formatting\n",
    "\n",
    "print(f\"Number of Rows = {rows}\\nNumber of Colums = {cols}\")"
   ]
  },
  {
   "cell_type": "markdown",
   "id": "88bdc89f",
   "metadata": {},
   "source": [
    "Here we explored the dimensions of our dataset, with 48842 rows and 15 features where 1 column is our target variable and 14 are our attributes/features  "
   ]
  },
  {
   "cell_type": "markdown",
   "id": "ab05ccc0",
   "metadata": {},
   "source": [
    "## 3. Rename Columns"
   ]
  },
  {
   "cell_type": "markdown",
   "id": "613f01c9",
   "metadata": {},
   "source": [
    "Frequently, column names may contain spaces or mis-spelled words, leading to the need for renaming columns. We can obtain the column names by accessing the `columns` method on the DataFrame."
   ]
  },
  {
   "cell_type": "code",
   "execution_count": 72,
   "id": "18002754",
   "metadata": {
    "tags": []
   },
   "outputs": [
    {
     "data": {
      "text/plain": [
       "Index(['age', 'workclass', 'fnlwgt', 'education', 'education-num',\n",
       "       'marital-status', 'occupation', 'relationship', 'race', 'sex',\n",
       "       'capital-gain', 'capital-loss', 'hours-per-week', 'native-country',\n",
       "       'income_adjusted'],\n",
       "      dtype='object')"
      ]
     },
     "execution_count": 72,
     "metadata": {},
     "output_type": "execute_result"
    }
   ],
   "source": [
    "adult_df.columns"
   ]
  },
  {
   "cell_type": "markdown",
   "id": "851ffdc6",
   "metadata": {},
   "source": [
    "Here the column names are all in lower cases and are separated by hyphen between the words in a sinlge column name. For better interpretability we are changing those column names into upper case and replacing the hyphen with underscore."
   ]
  },
  {
   "cell_type": "code",
   "execution_count": 73,
   "id": "98bfea40",
   "metadata": {
    "tags": []
   },
   "outputs": [
    {
     "data": {
      "text/plain": [
       "Index(['AGE', 'WORKCLASS', 'FNLWGT', 'EDUCATION', 'EDUCATION-NUM',\n",
       "       'MARITAL-STATUS', 'OCCUPATION', 'RELATIONSHIP', 'RACE', 'SEX',\n",
       "       'CAPITAL-GAIN', 'CAPITAL-LOSS', 'HOURS-PER-WEEK', 'NATIVE-COUNTRY',\n",
       "       'INCOME_ADJUSTED'],\n",
       "      dtype='object')"
      ]
     },
     "execution_count": 73,
     "metadata": {},
     "output_type": "execute_result"
    }
   ],
   "source": [
    "adult_df.columns = adult_df.columns.str.upper()\n",
    "adult_df.columns"
   ]
  },
  {
   "cell_type": "code",
   "execution_count": 74,
   "id": "1e30edc7",
   "metadata": {
    "tags": []
   },
   "outputs": [
    {
     "data": {
      "text/plain": [
       "Index(['AGE', 'WORKCLASS', 'FNLWGT', 'EDUCATION', 'EDUCATION_NUM',\n",
       "       'MARITAL_STATUS', 'OCCUPATION', 'RELATIONSHIP', 'RACE', 'SEX',\n",
       "       'CAPITAL_GAIN', 'CAPITAL_LOSS', 'HOURS_PER_WEEK', 'NATIVE_COUNTRY',\n",
       "       'INCOME_ADJUSTED'],\n",
       "      dtype='object')"
      ]
     },
     "execution_count": 74,
     "metadata": {},
     "output_type": "execute_result"
    }
   ],
   "source": [
    "adult_df.columns = [s.strip().replace('-', '_') for s in adult_df.columns]\n",
    "adult_df.columns"
   ]
  },
  {
   "cell_type": "markdown",
   "id": "3d2b3c06",
   "metadata": {},
   "source": [
    "we can also convert the column names using rename method"
   ]
  },
  {
   "cell_type": "code",
   "execution_count": 75,
   "id": "3c035d1b",
   "metadata": {
    "tags": []
   },
   "outputs": [
    {
     "data": {
      "text/plain": [
       "Index(['AGE', 'WORK_CLASS', 'FNLWGT', 'EDUCATION', 'EDUCATION_NUM',\n",
       "       'MARITAL_STATUS', 'OCCUPATION', 'RELATIONSHIP', 'RACE', 'SEX',\n",
       "       'CAPITAL_GAIN', 'CAPITAL_LOSS', 'HOURS_PER_WEEK', 'NATIVE_COUNTRY',\n",
       "       'INCOME_ADJUSTED'],\n",
       "      dtype='object')"
      ]
     },
     "execution_count": 75,
     "metadata": {},
     "output_type": "execute_result"
    }
   ],
   "source": [
    "adult_df = adult_df.rename(columns = {\"WORKCLASS\":\"WORK_CLASS\"})\n",
    "adult_df.columns"
   ]
  },
  {
   "cell_type": "code",
   "execution_count": 76,
   "id": "d57dbc65",
   "metadata": {
    "tags": []
   },
   "outputs": [
    {
     "data": {
      "image/png": "[encoded data removed]",
      "text/plain": [
       "<Figure size 1000x500 with 1 Axes>"
      ]
     },
     "metadata": {},
     "output_type": "display_data"
    },
    {
     "data": {
      "text/plain": [
       "array(['<=104K', '>104K'], dtype=object)"
      ]
     },
     "execution_count": 76,
     "metadata": {},
     "output_type": "execute_result"
    }
   ],
   "source": [
    "plt.figure(figsize=(10, 5))\n",
    "sns.boxplot(x='INCOME_ADJUSTED', y='AGE', data=adult_df)\n",
    "plt.title(f'AGE vs INCOME_ADJUSTED')\n",
    "plt.show()\n",
    "adult_df['INCOME_ADJUSTED'].unique()"
   ]
  },
  {
   "cell_type": "code",
   "execution_count": 77,
   "id": "6f7dad56",
   "metadata": {
    "tags": []
   },
   "outputs": [
    {
     "data": {
      "text/html": [
       "<div>\n",
       "<style scoped>\n",
       "    .dataframe tbody tr th:only-of-type {\n",
       "        vertical-align: middle;\n",
       "    }\n",
       "\n",
       "    .dataframe tbody tr th {\n",
       "        vertical-align: top;\n",
       "    }\n",
       "\n",
       "    .dataframe thead th {\n",
       "        text-align: right;\n",
       "    }\n",
       "</style>\n",
       "<table border=\"1\" class=\"dataframe\">\n",
       "  <thead>\n",
       "    <tr style=\"text-align: right;\">\n",
       "      <th></th>\n",
       "      <th>Name of the Column</th>\n",
       "      <th>Total Outliers</th>\n",
       "      <th>Percentage Outliers</th>\n",
       "      <th>Median</th>\n",
       "      <th>Mean</th>\n",
       "      <th>IQR</th>\n",
       "    </tr>\n",
       "  </thead>\n",
       "  <tbody>\n",
       "    <tr>\n",
       "      <th>0</th>\n",
       "      <td>AGE (&lt;=104K)</td>\n",
       "      <td>207</td>\n",
       "      <td>0.557126</td>\n",
       "      <td>34.0</td>\n",
       "      <td>36.872184</td>\n",
       "      <td>21.0</td>\n",
       "    </tr>\n",
       "    <tr>\n",
       "      <th>1</th>\n",
       "      <td>FNLWGT (&lt;=104K)</td>\n",
       "      <td>1089</td>\n",
       "      <td>2.930965</td>\n",
       "      <td>178811.0</td>\n",
       "      <td>190039.565523</td>\n",
       "      <td>121707.0</td>\n",
       "    </tr>\n",
       "    <tr>\n",
       "      <th>2</th>\n",
       "      <td>EDUCATION_NUM (&lt;=104K)</td>\n",
       "      <td>12911</td>\n",
       "      <td>34.749024</td>\n",
       "      <td>9.0</td>\n",
       "      <td>9.598493</td>\n",
       "      <td>1.0</td>\n",
       "    </tr>\n",
       "    <tr>\n",
       "      <th>3</th>\n",
       "      <td>CAPITAL_GAIN (&lt;=104K)</td>\n",
       "      <td>1544</td>\n",
       "      <td>4.155565</td>\n",
       "      <td>0.0</td>\n",
       "      <td>147.010308</td>\n",
       "      <td>0.0</td>\n",
       "    </tr>\n",
       "    <tr>\n",
       "      <th>4</th>\n",
       "      <td>CAPITAL_LOSS (&lt;=104K)</td>\n",
       "      <td>1138</td>\n",
       "      <td>3.062845</td>\n",
       "      <td>0.0</td>\n",
       "      <td>54.151931</td>\n",
       "      <td>0.0</td>\n",
       "    </tr>\n",
       "    <tr>\n",
       "      <th>5</th>\n",
       "      <td>HOURS_PER_WEEK (&lt;=104K)</td>\n",
       "      <td>11706</td>\n",
       "      <td>31.505854</td>\n",
       "      <td>40.0</td>\n",
       "      <td>38.840048</td>\n",
       "      <td>5.0</td>\n",
       "    </tr>\n",
       "    <tr>\n",
       "      <th>6</th>\n",
       "      <td>AGE (&gt;104K)</td>\n",
       "      <td>90</td>\n",
       "      <td>0.770086</td>\n",
       "      <td>43.0</td>\n",
       "      <td>44.275178</td>\n",
       "      <td>15.0</td>\n",
       "    </tr>\n",
       "    <tr>\n",
       "      <th>7</th>\n",
       "      <td>FNLWGT (&gt;104K)</td>\n",
       "      <td>362</td>\n",
       "      <td>3.097459</td>\n",
       "      <td>176729.0</td>\n",
       "      <td>188470.574570</td>\n",
       "      <td>114562.5</td>\n",
       "    </tr>\n",
       "    <tr>\n",
       "      <th>8</th>\n",
       "      <td>EDUCATION_NUM (&gt;104K)</td>\n",
       "      <td>139</td>\n",
       "      <td>1.189356</td>\n",
       "      <td>12.0</td>\n",
       "      <td>11.602807</td>\n",
       "      <td>3.0</td>\n",
       "    </tr>\n",
       "    <tr>\n",
       "      <th>9</th>\n",
       "      <td>CAPITAL_GAIN (&gt;104K)</td>\n",
       "      <td>2491</td>\n",
       "      <td>21.314281</td>\n",
       "      <td>0.0</td>\n",
       "      <td>4042.239497</td>\n",
       "      <td>0.0</td>\n",
       "    </tr>\n",
       "    <tr>\n",
       "      <th>10</th>\n",
       "      <td>CAPITAL_LOSS (&gt;104K)</td>\n",
       "      <td>1144</td>\n",
       "      <td>9.788654</td>\n",
       "      <td>0.0</td>\n",
       "      <td>193.528964</td>\n",
       "      <td>0.0</td>\n",
       "    </tr>\n",
       "    <tr>\n",
       "      <th>11</th>\n",
       "      <td>HOURS_PER_WEEK (&gt;104K)</td>\n",
       "      <td>781</td>\n",
       "      <td>6.682639</td>\n",
       "      <td>40.0</td>\n",
       "      <td>45.452896</td>\n",
       "      <td>10.0</td>\n",
       "    </tr>\n",
       "  </tbody>\n",
       "</table>\n",
       "</div>"
      ],
      "text/plain": [
       "         Name of the Column  Total Outliers  Percentage Outliers    Median  \\\n",
       "0              AGE (<=104K)             207             0.557126      34.0   \n",
       "1           FNLWGT (<=104K)            1089             2.930965  178811.0   \n",
       "2    EDUCATION_NUM (<=104K)           12911            34.749024       9.0   \n",
       "3     CAPITAL_GAIN (<=104K)            1544             4.155565       0.0   \n",
       "4     CAPITAL_LOSS (<=104K)            1138             3.062845       0.0   \n",
       "5   HOURS_PER_WEEK (<=104K)           11706            31.505854      40.0   \n",
       "6               AGE (>104K)              90             0.770086      43.0   \n",
       "7            FNLWGT (>104K)             362             3.097459  176729.0   \n",
       "8     EDUCATION_NUM (>104K)             139             1.189356      12.0   \n",
       "9      CAPITAL_GAIN (>104K)            2491            21.314281       0.0   \n",
       "10     CAPITAL_LOSS (>104K)            1144             9.788654       0.0   \n",
       "11   HOURS_PER_WEEK (>104K)             781             6.682639      40.0   \n",
       "\n",
       "             Mean       IQR  \n",
       "0       36.872184      21.0  \n",
       "1   190039.565523  121707.0  \n",
       "2        9.598493       1.0  \n",
       "3      147.010308       0.0  \n",
       "4       54.151931       0.0  \n",
       "5       38.840048       5.0  \n",
       "6       44.275178      15.0  \n",
       "7   188470.574570  114562.5  \n",
       "8       11.602807       3.0  \n",
       "9     4042.239497       0.0  \n",
       "10     193.528964       0.0  \n",
       "11      45.452896      10.0  "
      ]
     },
     "execution_count": 77,
     "metadata": {},
     "output_type": "execute_result"
    }
   ],
   "source": [
    "cont_feature_col = ['AGE', 'FNLWGT', 'EDUCATION_NUM', 'CAPITAL_GAIN', 'CAPITAL_LOSS', 'HOURS_PER_WEEK']\n",
    "\n",
    "# Create an empty dictionary to store summary information for each feature\n",
    "outliers = {\n",
    "    'Name of the Column': [],\n",
    "    'Total Outliers': [],\n",
    "    'Percentage Outliers': [],\n",
    "    'Median': [],\n",
    "    'Mean': [],\n",
    "    'IQR': []\n",
    "}\n",
    "\n",
    "Income_1_df = adult_df[adult_df['INCOME_ADJUSTED'] == '<=104K']\n",
    "Income_2_df = adult_df[adult_df['INCOME_ADJUSTED'] == '>104K']\n",
    "\n",
    "for df, income_category in zip([Income_1_df, Income_2_df], ['<=104K', '>104K']):\n",
    "\n",
    "    for col in cont_feature_col:\n",
    "        # Calculate IQR for each column\n",
    "        q1 = df[col].quantile(0.25)\n",
    "        q3 = df[col].quantile(0.75)\n",
    "        IQR = q3 - q1\n",
    "\n",
    "        # Detect outliers\n",
    "        is_outlier = np.logical_or((df[col] < (q1 - 1.5 * IQR)), (df[col] > (q3 + 1.5 * IQR)))\n",
    "\n",
    "        # Count the number of outliers and calculate the percentage\n",
    "        total_outliers = is_outlier.sum()\n",
    "        percentage_outliers = (total_outliers / len(df)) * 100\n",
    "\n",
    "        # Calculate the median, mean, and IQR\n",
    "        median = df[col].median()\n",
    "        mean = df[col].mean()\n",
    "\n",
    "        # Add the information to the dictionary\n",
    "        outliers['Name of the Column'].append(f\"{col} ({income_category})\")\n",
    "        outliers['Total Outliers'].append(total_outliers)\n",
    "        outliers['Percentage Outliers'].append(percentage_outliers)\n",
    "        outliers['Median'].append(median)\n",
    "        outliers['Mean'].append(mean)\n",
    "        outliers['IQR'].append(IQR)\n",
    "\n",
    "# Create a DataFrame to summarize the outliers\n",
    "outlier_df = pd.DataFrame(outliers)\n",
    "\n",
    "# Display the DataFrame\n",
    "outlier_df"
   ]
  },
  {
   "cell_type": "code",
   "execution_count": 78,
   "id": "54b04db6",
   "metadata": {
    "tags": []
   },
   "outputs": [
    {
     "data": {
      "text/html": [
       "<div>\n",
       "<style scoped>\n",
       "    .dataframe tbody tr th:only-of-type {\n",
       "        vertical-align: middle;\n",
       "    }\n",
       "\n",
       "    .dataframe tbody tr th {\n",
       "        vertical-align: top;\n",
       "    }\n",
       "\n",
       "    .dataframe thead th {\n",
       "        text-align: right;\n",
       "    }\n",
       "</style>\n",
       "<table border=\"1\" class=\"dataframe\">\n",
       "  <thead>\n",
       "    <tr style=\"text-align: right;\">\n",
       "      <th></th>\n",
       "      <th>WORK_CLASS</th>\n",
       "    </tr>\n",
       "  </thead>\n",
       "  <tbody>\n",
       "    <tr>\n",
       "      <th>Private</th>\n",
       "      <td>70.816015</td>\n",
       "    </tr>\n",
       "    <tr>\n",
       "      <th>Self-emp-not-inc</th>\n",
       "      <td>8.066167</td>\n",
       "    </tr>\n",
       "    <tr>\n",
       "      <th>Local-gov</th>\n",
       "      <td>6.549844</td>\n",
       "    </tr>\n",
       "  </tbody>\n",
       "</table>\n",
       "</div>"
      ],
      "text/plain": [
       "                  WORK_CLASS\n",
       "Private            70.816015\n",
       "Self-emp-not-inc    8.066167\n",
       "Local-gov           6.549844"
      ]
     },
     "execution_count": 78,
     "metadata": {},
     "output_type": "execute_result"
    }
   ],
   "source": [
    "percentage_data = {}\n",
    "category_percentages = adult_df['WORK_CLASS'].value_counts(normalize=True) * 100\n",
    "percentage_data['WORK_CLASS'] = category_percentages\n",
    "percentage_df = pd.DataFrame(percentage_data)\n",
    "percentage_df.head(3)"
   ]
  },
  {
   "cell_type": "code",
   "execution_count": 79,
   "id": "8e1a1193",
   "metadata": {
    "tags": []
   },
   "outputs": [
    {
     "data": {
      "image/png": "[encoded data removed]",
      "text/plain": [
       "<Figure size 600x600 with 1 Axes>"
      ]
     },
     "metadata": {},
     "output_type": "display_data"
    }
   ],
   "source": [
    "us_data = adult_df[adult_df['WORK_CLASS'] == 'Private']\n",
    "\n",
    "# Set a color palette for the plot\n",
    "sns.set_palette(\"Set1\")\n",
    "\n",
    "# Create a figure and axes\n",
    "plt.figure(figsize=(6, 6))\n",
    "ax = sns.countplot(x='WORK_CLASS', hue='INCOME_ADJUSTED', data=us_data)\n",
    "plt.title('WORK_CLASS vs INCOME_ADJUSTED (for Private)')\n",
    "\n",
    "# Annotate the bars with their heights\n",
    "for p in ax.patches:\n",
    "    ax.annotate(f'{p.get_height()}', (p.get_x() + p.get_width() / 2., p.get_height()), ha='center', va='baseline')\n",
    "\n",
    "plt.tight_layout()\n",
    "plt.show()"
   ]
  },
  {
   "cell_type": "code",
   "execution_count": 80,
   "id": "60c294ff",
   "metadata": {
    "tags": []
   },
   "outputs": [
    {
     "data": {
      "text/html": [
       "<div>\n",
       "<style scoped>\n",
       "    .dataframe tbody tr th:only-of-type {\n",
       "        vertical-align: middle;\n",
       "    }\n",
       "\n",
       "    .dataframe tbody tr th {\n",
       "        vertical-align: top;\n",
       "    }\n",
       "\n",
       "    .dataframe thead th {\n",
       "        text-align: right;\n",
       "    }\n",
       "</style>\n",
       "<table border=\"1\" class=\"dataframe\">\n",
       "  <thead>\n",
       "    <tr style=\"text-align: right;\">\n",
       "      <th></th>\n",
       "      <th>RELATIONSHIP</th>\n",
       "    </tr>\n",
       "  </thead>\n",
       "  <tbody>\n",
       "    <tr>\n",
       "      <th>Husband</th>\n",
       "      <td>40.366897</td>\n",
       "    </tr>\n",
       "    <tr>\n",
       "      <th>Not-in-family</th>\n",
       "      <td>25.762663</td>\n",
       "    </tr>\n",
       "    <tr>\n",
       "      <th>Own-child</th>\n",
       "      <td>15.521477</td>\n",
       "    </tr>\n",
       "    <tr>\n",
       "      <th>Unmarried</th>\n",
       "      <td>10.493018</td>\n",
       "    </tr>\n",
       "    <tr>\n",
       "      <th>Wife</th>\n",
       "      <td>4.772532</td>\n",
       "    </tr>\n",
       "    <tr>\n",
       "      <th>Other-relative</th>\n",
       "      <td>3.083412</td>\n",
       "    </tr>\n",
       "  </tbody>\n",
       "</table>\n",
       "</div>"
      ],
      "text/plain": [
       "                RELATIONSHIP\n",
       "Husband            40.366897\n",
       "Not-in-family      25.762663\n",
       "Own-child          15.521477\n",
       "Unmarried          10.493018\n",
       "Wife                4.772532\n",
       "Other-relative      3.083412"
      ]
     },
     "execution_count": 80,
     "metadata": {},
     "output_type": "execute_result"
    }
   ],
   "source": [
    "percentage_data = {}\n",
    "category_percentages = adult_df['RELATIONSHIP'].value_counts(normalize=True) * 100\n",
    "percentage_data['RELATIONSHIP'] = category_percentages\n",
    "percentage_df = pd.DataFrame(percentage_data)\n",
    "percentage_df"
   ]
  },
  {
   "cell_type": "code",
   "execution_count": 81,
   "id": "dc93c46b",
   "metadata": {
    "tags": []
   },
   "outputs": [
    {
     "data": {
      "image/png": "[encoded data removed]",
      "text/plain": [
       "<Figure size 800x600 with 1 Axes>"
      ]
     },
     "metadata": {},
     "output_type": "display_data"
    }
   ],
   "source": [
    "# Set a color palette for the plot\n",
    "sns.set_palette(\"Set1\")\n",
    "\n",
    "# Create a figure and axes\n",
    "plt.figure(figsize=(8, 6))\n",
    "ax = sns.countplot(x='RELATIONSHIP', hue='INCOME_ADJUSTED', data=adult_df)\n",
    "plt.title('RELATIONSHIP vs INCOME_ADJUSTED (for Private)')\n",
    "\n",
    "# Annotate the bars with their heights\n",
    "for p in ax.patches:\n",
    "    ax.annotate(f'{p.get_height()}', (p.get_x() + p.get_width() / 2., p.get_height()), ha='center', va='baseline')\n",
    "\n",
    "plt.tight_layout()\n",
    "plt.show()"
   ]
  },
  {
   "cell_type": "code",
   "execution_count": 82,
   "id": "11869c8b",
   "metadata": {
    "tags": []
   },
   "outputs": [
    {
     "data": {
      "text/html": [
       "<div>\n",
       "<style scoped>\n",
       "    .dataframe tbody tr th:only-of-type {\n",
       "        vertical-align: middle;\n",
       "    }\n",
       "\n",
       "    .dataframe tbody tr th {\n",
       "        vertical-align: top;\n",
       "    }\n",
       "\n",
       "    .dataframe thead th {\n",
       "        text-align: right;\n",
       "    }\n",
       "</style>\n",
       "<table border=\"1\" class=\"dataframe\">\n",
       "  <thead>\n",
       "    <tr style=\"text-align: right;\">\n",
       "      <th></th>\n",
       "      <th>RACE</th>\n",
       "    </tr>\n",
       "  </thead>\n",
       "  <tbody>\n",
       "    <tr>\n",
       "      <th>White</th>\n",
       "      <td>85.504279</td>\n",
       "    </tr>\n",
       "    <tr>\n",
       "      <th>Black</th>\n",
       "      <td>9.592154</td>\n",
       "    </tr>\n",
       "    <tr>\n",
       "      <th>Asian-Pac-Islander</th>\n",
       "      <td>3.110028</td>\n",
       "    </tr>\n",
       "    <tr>\n",
       "      <th>Amer-Indian-Eskimo</th>\n",
       "      <td>0.962287</td>\n",
       "    </tr>\n",
       "    <tr>\n",
       "      <th>Other</th>\n",
       "      <td>0.831252</td>\n",
       "    </tr>\n",
       "  </tbody>\n",
       "</table>\n",
       "</div>"
      ],
      "text/plain": [
       "                         RACE\n",
       "White               85.504279\n",
       "Black                9.592154\n",
       "Asian-Pac-Islander   3.110028\n",
       "Amer-Indian-Eskimo   0.962287\n",
       "Other                0.831252"
      ]
     },
     "execution_count": 82,
     "metadata": {},
     "output_type": "execute_result"
    }
   ],
   "source": [
    "percentage_data = {}\n",
    "category_percentages = adult_df['RACE'].value_counts(normalize=True) * 100\n",
    "percentage_data['RACE'] = category_percentages\n",
    "percentage_df = pd.DataFrame(percentage_data)\n",
    "percentage_df"
   ]
  },
  {
   "cell_type": "code",
   "execution_count": 83,
   "id": "66827cf7",
   "metadata": {
    "tags": []
   },
   "outputs": [
    {
     "data": {
      "image/png": "[encoded data removed]",
      "text/plain": [
       "<Figure size 600x600 with 1 Axes>"
      ]
     },
     "metadata": {},
     "output_type": "display_data"
    }
   ],
   "source": [
    "us_data = adult_df[adult_df['RACE'] == 'White']\n",
    "\n",
    "# Set a color palette for the plot\n",
    "sns.set_palette(\"Set1\")\n",
    "\n",
    "# Create a figure and axes\n",
    "plt.figure(figsize=(6, 6))\n",
    "ax = sns.countplot(x='RACE', hue='INCOME_ADJUSTED', data=us_data)\n",
    "plt.title('RACE vs INCOME_ADJUSTED (for White)')\n",
    "\n",
    "# Annotate the bars with their heights\n",
    "for p in ax.patches:\n",
    "    ax.annotate(f'{p.get_height()}', (p.get_x() + p.get_width() / 2., p.get_height()), ha='center', va='baseline')\n",
    "\n",
    "plt.tight_layout()\n",
    "plt.show()"
   ]
  },
  {
   "cell_type": "code",
   "execution_count": 84,
   "id": "064cfc96",
   "metadata": {
    "tags": []
   },
   "outputs": [
    {
     "data": {
      "text/html": [
       "<div>\n",
       "<style scoped>\n",
       "    .dataframe tbody tr th:only-of-type {\n",
       "        vertical-align: middle;\n",
       "    }\n",
       "\n",
       "    .dataframe tbody tr th {\n",
       "        vertical-align: top;\n",
       "    }\n",
       "\n",
       "    .dataframe thead th {\n",
       "        text-align: right;\n",
       "    }\n",
       "</style>\n",
       "<table border=\"1\" class=\"dataframe\">\n",
       "  <thead>\n",
       "    <tr style=\"text-align: right;\">\n",
       "      <th></th>\n",
       "      <th>SEX</th>\n",
       "    </tr>\n",
       "  </thead>\n",
       "  <tbody>\n",
       "    <tr>\n",
       "      <th>Male</th>\n",
       "      <td>66.848204</td>\n",
       "    </tr>\n",
       "    <tr>\n",
       "      <th>Female</th>\n",
       "      <td>33.151796</td>\n",
       "    </tr>\n",
       "  </tbody>\n",
       "</table>\n",
       "</div>"
      ],
      "text/plain": [
       "              SEX\n",
       "Male    66.848204\n",
       "Female  33.151796"
      ]
     },
     "execution_count": 84,
     "metadata": {},
     "output_type": "execute_result"
    }
   ],
   "source": [
    "percentage_data = {}\n",
    "category_percentages = adult_df['SEX'].value_counts(normalize=True) * 100\n",
    "percentage_data['SEX'] = category_percentages\n",
    "percentage_df = pd.DataFrame(percentage_data)\n",
    "percentage_df"
   ]
  },
  {
   "cell_type": "code",
   "execution_count": 85,
   "id": "b00735c7",
   "metadata": {
    "tags": []
   },
   "outputs": [
    {
     "data": {
      "image/png": "[encoded data removed]",
      "text/plain": [
       "<Figure size 600x600 with 1 Axes>"
      ]
     },
     "metadata": {},
     "output_type": "display_data"
    }
   ],
   "source": [
    "# Set a color palette for the plot\n",
    "sns.set_palette(\"Set1\")\n",
    "\n",
    "# Create a figure and axes\n",
    "plt.figure(figsize=(6, 6))\n",
    "ax = sns.countplot(x='SEX', hue='INCOME_ADJUSTED', data=adult_df)\n",
    "plt.title('SEX vs INCOME_ADJUSTED')\n",
    "\n",
    "# Annotate the bars with their heights\n",
    "for p in ax.patches:\n",
    "    ax.annotate(f'{p.get_height()}', (p.get_x() + p.get_width() / 2., p.get_height()), ha='center', va='baseline')\n",
    "\n",
    "plt.tight_layout()\n",
    "plt.show()"
   ]
  },
  {
   "cell_type": "code",
   "execution_count": 86,
   "id": "b1f0dded",
   "metadata": {
    "tags": []
   },
   "outputs": [
    {
     "data": {
      "text/html": [
       "<div>\n",
       "<style scoped>\n",
       "    .dataframe tbody tr th:only-of-type {\n",
       "        vertical-align: middle;\n",
       "    }\n",
       "\n",
       "    .dataframe tbody tr th {\n",
       "        vertical-align: top;\n",
       "    }\n",
       "\n",
       "    .dataframe thead th {\n",
       "        text-align: right;\n",
       "    }\n",
       "</style>\n",
       "<table border=\"1\" class=\"dataframe\">\n",
       "  <thead>\n",
       "    <tr style=\"text-align: right;\">\n",
       "      <th></th>\n",
       "      <th>OCCUPATION</th>\n",
       "    </tr>\n",
       "  </thead>\n",
       "  <tbody>\n",
       "    <tr>\n",
       "      <th>Prof-specialty</th>\n",
       "      <td>12.891637</td>\n",
       "    </tr>\n",
       "    <tr>\n",
       "      <th>Craft-repair</th>\n",
       "      <td>12.766313</td>\n",
       "    </tr>\n",
       "    <tr>\n",
       "      <th>Exec-managerial</th>\n",
       "      <td>12.712006</td>\n",
       "    </tr>\n",
       "    <tr>\n",
       "      <th>Adm-clerical</th>\n",
       "      <td>11.719860</td>\n",
       "    </tr>\n",
       "    <tr>\n",
       "      <th>Sales</th>\n",
       "      <td>11.496366</td>\n",
       "    </tr>\n",
       "    <tr>\n",
       "      <th>Other-service</th>\n",
       "      <td>10.282814</td>\n",
       "    </tr>\n",
       "    <tr>\n",
       "      <th>Machine-op-inspct</th>\n",
       "      <td>6.312140</td>\n",
       "    </tr>\n",
       "    <tr>\n",
       "      <th>Transport-moving</th>\n",
       "      <td>4.918957</td>\n",
       "    </tr>\n",
       "    <tr>\n",
       "      <th>Handlers-cleaners</th>\n",
       "      <td>4.327847</td>\n",
       "    </tr>\n",
       "    <tr>\n",
       "      <th>?</th>\n",
       "      <td>3.849528</td>\n",
       "    </tr>\n",
       "  </tbody>\n",
       "</table>\n",
       "</div>"
      ],
      "text/plain": [
       "                   OCCUPATION\n",
       "Prof-specialty      12.891637\n",
       "Craft-repair        12.766313\n",
       "Exec-managerial     12.712006\n",
       "Adm-clerical        11.719860\n",
       "Sales               11.496366\n",
       "Other-service       10.282814\n",
       "Machine-op-inspct    6.312140\n",
       "Transport-moving     4.918957\n",
       "Handlers-cleaners    4.327847\n",
       "?                    3.849528"
      ]
     },
     "execution_count": 86,
     "metadata": {},
     "output_type": "execute_result"
    }
   ],
   "source": [
    "percentage_data = {}\n",
    "category_percentages = adult_df['OCCUPATION'].value_counts(normalize=True) * 100\n",
    "percentage_data['OCCUPATION'] = category_percentages\n",
    "percentage_df = pd.DataFrame(percentage_data)\n",
    "percentage_df.head(10)"
   ]
  },
  {
   "cell_type": "code",
   "execution_count": 87,
   "id": "657accde",
   "metadata": {
    "tags": []
   },
   "outputs": [
    {
     "data": {
      "image/png": "[encoded data removed]",
      "text/plain": [
       "<Figure size 1000x500 with 1 Axes>"
      ]
     },
     "metadata": {},
     "output_type": "display_data"
    }
   ],
   "source": [
    "# Calculate the percentage of each category within the 'OCCUPATION' column\n",
    "category_percentages = adult_df['OCCUPATION'].value_counts(normalize=True) * 100\n",
    "\n",
    "# Create a DataFrame with the occupations and their percentages\n",
    "df = pd.DataFrame({'OCCUPATION': category_percentages.index, 'Percentage': category_percentages.values})\n",
    "\n",
    "plt.figure(figsize=(10, 5))  \n",
    "sns.barplot(x='OCCUPATION', y='Percentage', data=df)\n",
    "plt.title('Occupations by Percentage')\n",
    "plt.xticks(rotation=45) \n",
    "\n",
    "# Display the plot\n",
    "plt.tight_layout()\n",
    "plt.show()"
   ]
  },
  {
   "cell_type": "code",
   "execution_count": 88,
   "id": "1eb81ae1",
   "metadata": {
    "tags": []
   },
   "outputs": [
    {
     "data": {
      "text/html": [
       "<div>\n",
       "<style scoped>\n",
       "    .dataframe tbody tr th:only-of-type {\n",
       "        vertical-align: middle;\n",
       "    }\n",
       "\n",
       "    .dataframe tbody tr th {\n",
       "        vertical-align: top;\n",
       "    }\n",
       "\n",
       "    .dataframe thead th {\n",
       "        text-align: right;\n",
       "    }\n",
       "</style>\n",
       "<table border=\"1\" class=\"dataframe\">\n",
       "  <thead>\n",
       "    <tr style=\"text-align: right;\">\n",
       "      <th></th>\n",
       "      <th>EDUCATION</th>\n",
       "    </tr>\n",
       "  </thead>\n",
       "  <tbody>\n",
       "    <tr>\n",
       "      <th>HS-grad</th>\n",
       "      <td>32.316449</td>\n",
       "    </tr>\n",
       "    <tr>\n",
       "      <th>Some-college</th>\n",
       "      <td>22.271815</td>\n",
       "    </tr>\n",
       "    <tr>\n",
       "      <th>Bachelors</th>\n",
       "      <td>16.430531</td>\n",
       "    </tr>\n",
       "    <tr>\n",
       "      <th>Masters</th>\n",
       "      <td>5.439990</td>\n",
       "    </tr>\n",
       "    <tr>\n",
       "      <th>Assoc-voc</th>\n",
       "      <td>4.219729</td>\n",
       "    </tr>\n",
       "  </tbody>\n",
       "</table>\n",
       "</div>"
      ],
      "text/plain": [
       "              EDUCATION\n",
       "HS-grad       32.316449\n",
       "Some-college  22.271815\n",
       "Bachelors     16.430531\n",
       "Masters        5.439990\n",
       "Assoc-voc      4.219729"
      ]
     },
     "execution_count": 88,
     "metadata": {},
     "output_type": "execute_result"
    }
   ],
   "source": [
    "percentage_data = {}\n",
    "category_percentages = adult_df['EDUCATION'].value_counts(normalize=True) * 100\n",
    "percentage_data['EDUCATION'] = category_percentages\n",
    "percentage_df = pd.DataFrame(percentage_data)\n",
    "percentage_df.head()"
   ]
  },
  {
   "cell_type": "code",
   "execution_count": 89,
   "id": "10083ae8",
   "metadata": {
    "tags": []
   },
   "outputs": [
    {
     "data": {
      "image/png": "[encoded data removed]",
      "text/plain": [
       "<Figure size 1000x500 with 1 Axes>"
      ]
     },
     "metadata": {},
     "output_type": "display_data"
    }
   ],
   "source": [
    "# Calculate the percentage of each category within the 'OCCUPATION' column\n",
    "category_percentages = adult_df['EDUCATION'].value_counts(normalize=True) * 100\n",
    "\n",
    "# Create a DataFrame with the occupations and their percentages\n",
    "df = pd.DataFrame({'EDUCATION': category_percentages.index, 'Percentage': category_percentages.values})\n",
    "\n",
    "plt.figure(figsize=(10, 5))  \n",
    "sns.barplot(x='EDUCATION', y='Percentage', data=df)\n",
    "plt.title('Education by Percentage')\n",
    "plt.xticks(rotation=45)  \n",
    "\n",
    "# Display the plot\n",
    "plt.tight_layout()\n",
    "plt.show()"
   ]
  },
  {
   "cell_type": "code",
   "execution_count": 90,
   "id": "75a9b8c9",
   "metadata": {
    "tags": []
   },
   "outputs": [
    {
     "data": {
      "text/html": [
       "<div>\n",
       "<style scoped>\n",
       "    .dataframe tbody tr th:only-of-type {\n",
       "        vertical-align: middle;\n",
       "    }\n",
       "\n",
       "    .dataframe tbody tr th {\n",
       "        vertical-align: top;\n",
       "    }\n",
       "\n",
       "    .dataframe thead th {\n",
       "        text-align: right;\n",
       "    }\n",
       "</style>\n",
       "<table border=\"1\" class=\"dataframe\">\n",
       "  <thead>\n",
       "    <tr style=\"text-align: right;\">\n",
       "      <th></th>\n",
       "      <th>MARITAL_STATUS</th>\n",
       "    </tr>\n",
       "  </thead>\n",
       "  <tbody>\n",
       "    <tr>\n",
       "      <th>Married-civ-spouse</th>\n",
       "      <td>45.819172</td>\n",
       "    </tr>\n",
       "    <tr>\n",
       "      <th>Never-married</th>\n",
       "      <td>32.998239</td>\n",
       "    </tr>\n",
       "    <tr>\n",
       "      <th>Divorced</th>\n",
       "      <td>13.580525</td>\n",
       "    </tr>\n",
       "    <tr>\n",
       "      <th>Separated</th>\n",
       "      <td>3.132550</td>\n",
       "    </tr>\n",
       "    <tr>\n",
       "      <th>Widowed</th>\n",
       "      <td>3.107981</td>\n",
       "    </tr>\n",
       "  </tbody>\n",
       "</table>\n",
       "</div>"
      ],
      "text/plain": [
       "                    MARITAL_STATUS\n",
       "Married-civ-spouse       45.819172\n",
       "Never-married            32.998239\n",
       "Divorced                 13.580525\n",
       "Separated                 3.132550\n",
       "Widowed                   3.107981"
      ]
     },
     "execution_count": 90,
     "metadata": {},
     "output_type": "execute_result"
    }
   ],
   "source": [
    "percentage_data = {}\n",
    "category_percentages = adult_df['MARITAL_STATUS'].value_counts(normalize=True) * 100\n",
    "percentage_data['MARITAL_STATUS'] = category_percentages\n",
    "percentage_df = pd.DataFrame(percentage_data)\n",
    "percentage_df.head()"
   ]
  },
  {
   "cell_type": "code",
   "execution_count": 91,
   "id": "9f6b7b31",
   "metadata": {
    "tags": []
   },
   "outputs": [
    {
     "data": {
      "image/png": "[encoded data removed]",
      "text/plain": [
       "<Figure size 800x700 with 1 Axes>"
      ]
     },
     "metadata": {},
     "output_type": "display_data"
    }
   ],
   "source": [
    "# Calculate the percentage of each category within the 'OCCUPATION' column\n",
    "category_percentages = adult_df['MARITAL_STATUS'].value_counts(normalize=True) * 100\n",
    "\n",
    "# Create a DataFrame with the occupations and their percentages\n",
    "df = pd.DataFrame({'MARITAL_STATUS': category_percentages.index, 'Percentage': category_percentages.values})\n",
    "\n",
    "plt.figure(figsize=(8, 7))  \n",
    "sns.barplot(x='MARITAL_STATUS', y='Percentage', data=df)\n",
    "plt.title('Marital Status by Percentage')\n",
    "plt.xticks(rotation=45)\n",
    "\n",
    "# Display the plot\n",
    "plt.tight_layout()\n",
    "plt.show()"
   ]
  },
  {
   "cell_type": "code",
   "execution_count": 92,
   "id": "b1000caa",
   "metadata": {
    "tags": []
   },
   "outputs": [
    {
     "data": {
      "text/html": [
       "<div>\n",
       "<style scoped>\n",
       "    .dataframe tbody tr th:only-of-type {\n",
       "        vertical-align: middle;\n",
       "    }\n",
       "\n",
       "    .dataframe tbody tr th {\n",
       "        vertical-align: top;\n",
       "    }\n",
       "\n",
       "    .dataframe thead th {\n",
       "        text-align: right;\n",
       "    }\n",
       "</style>\n",
       "<table border=\"1\" class=\"dataframe\">\n",
       "  <thead>\n",
       "    <tr style=\"text-align: right;\">\n",
       "      <th></th>\n",
       "      <th>NATIVE_COUNTRY</th>\n",
       "    </tr>\n",
       "  </thead>\n",
       "  <tbody>\n",
       "    <tr>\n",
       "      <th>United-States</th>\n",
       "      <td>90.248723</td>\n",
       "    </tr>\n",
       "    <tr>\n",
       "      <th>Mexico</th>\n",
       "      <td>1.958079</td>\n",
       "    </tr>\n",
       "    <tr>\n",
       "      <th>?</th>\n",
       "      <td>1.200379</td>\n",
       "    </tr>\n",
       "    <tr>\n",
       "      <th>Philippines</th>\n",
       "      <td>0.607396</td>\n",
       "    </tr>\n",
       "    <tr>\n",
       "      <th>Germany</th>\n",
       "      <td>0.424148</td>\n",
       "    </tr>\n",
       "  </tbody>\n",
       "</table>\n",
       "</div>"
      ],
      "text/plain": [
       "               NATIVE_COUNTRY\n",
       "United-States       90.248723\n",
       "Mexico               1.958079\n",
       "?                    1.200379\n",
       "Philippines          0.607396\n",
       "Germany              0.424148"
      ]
     },
     "execution_count": 92,
     "metadata": {},
     "output_type": "execute_result"
    }
   ],
   "source": [
    "percentage_data = {}\n",
    "category_percentages = adult_df['NATIVE_COUNTRY'].value_counts(normalize=True) * 100\n",
    "percentage_data['NATIVE_COUNTRY'] = category_percentages\n",
    "percentage_df = pd.DataFrame(percentage_data)\n",
    "percentage_df.head(5)"
   ]
  },
  {
   "cell_type": "code",
   "execution_count": 93,
   "id": "3d08eec7",
   "metadata": {
    "tags": []
   },
   "outputs": [
    {
     "data": {
      "image/png": "[encoded data removed]",
      "text/plain": [
       "<Figure size 600x600 with 1 Axes>"
      ]
     },
     "metadata": {},
     "output_type": "display_data"
    }
   ],
   "source": [
    "us_data = adult_df[adult_df['NATIVE_COUNTRY'] == 'United-States']\n",
    "\n",
    "# Set a color palette for the plot\n",
    "sns.set_palette(\"Set1\")\n",
    "\n",
    "plt.figure(figsize=(6, 6))\n",
    "ax = sns.countplot(x='NATIVE_COUNTRY', hue='INCOME_ADJUSTED', data=us_data)\n",
    "plt.title('NATIVE_COUNTRY vs INCOME_ADJUSTED (for United States)')\n",
    "\n",
    "for p in ax.patches:\n",
    "    ax.annotate(f'{p.get_height()}', (p.get_x() + p.get_width() / 2., p.get_height()), ha='center', va='baseline')\n",
    "\n",
    "plt.show()"
   ]
  },
  {
   "cell_type": "markdown",
   "id": "7033bd0e",
   "metadata": {},
   "source": [
    "## 4. Drop Unnecessary columns"
   ]
  },
  {
   "cell_type": "markdown",
   "id": "ddcd5882",
   "metadata": {},
   "source": [
    "In this dataset we have redundant columns which help in anything but predicting a person's income. So it's better to remove such columns and decrease dimensionality to reduce the computational cost and complexity of the dataset while running models."
   ]
  },
  {
   "cell_type": "markdown",
   "id": "111d954d",
   "metadata": {},
   "source": [
    "1. We decided to remove the columns Education Num as Education and Education Num suggest the same thing keeping Education would be more informative as it also describes the person's level of education without much calculation.\n",
    "\n",
    "\n",
    "2. Relationship is also redundant,since we already have \"Marital Status\" and \"Sex\" as features. It represents the individual's role in the family. In our ML Prediction FNLWGT is also unnecessary to us as it is mostly used in survey sampling to show the weightage of each person in the sample typically used for statistical tests it doesn't effect our prediction. So Let's drop the EDUCATION_NUM, FNLWGT and RELATIONSHIP columns which are redundant for our prediction. \n",
    "\n",
    "\n",
    "3. Occupation(OCCUPATION) and work_class nearly suggest the same thing as we are not looking for each occupation it would be more informative if we look at the distribution of income for all the work classes rather than just looking at each occupation which is cumbersome and prone to overfitting as the dimensionality of the data will also be increased after encoding. "
   ]
  },
  {
   "cell_type": "markdown",
   "id": "36a24403",
   "metadata": {},
   "source": [
    " Let's also look at the NATIVE_COUNTRY column to see if it is an adequate predictor or not."
   ]
  },
  {
   "cell_type": "code",
   "execution_count": 94,
   "id": "49c60807",
   "metadata": {
    "tags": []
   },
   "outputs": [
    {
     "data": {
      "text/plain": [
       "United-States                 43832\n",
       "Mexico                          951\n",
       "?                               583\n",
       "Philippines                     295\n",
       "Germany                         206\n",
       "Puerto-Rico                     184\n",
       "Canada                          182\n",
       "El-Salvador                     155\n",
       "India                           151\n",
       "Cuba                            138\n",
       "England                         127\n",
       "China                           122\n",
       "South                           115\n",
       "Jamaica                         106\n",
       "Italy                           105\n",
       "Dominican-Republic              103\n",
       "Japan                            92\n",
       "Guatemala                        88\n",
       "Poland                           87\n",
       "Vietnam                          86\n",
       "Columbia                         85\n",
       "Haiti                            75\n",
       "Portugal                         67\n",
       "Taiwan                           65\n",
       "Iran                             59\n",
       "Greece                           49\n",
       "Nicaragua                        49\n",
       "Peru                             46\n",
       "Ecuador                          45\n",
       "France                           38\n",
       "Ireland                          37\n",
       "Hong                             30\n",
       "Thailand                         30\n",
       "Cambodia                         28\n",
       "Trinadad&Tobago                  27\n",
       "Laos                             23\n",
       "Yugoslavia                       23\n",
       "Outlying-US(Guam-USVI-etc)       23\n",
       "Scotland                         21\n",
       "Honduras                         20\n",
       "Hungary                          19\n",
       "Holand-Netherlands                1\n",
       "Name: NATIVE_COUNTRY, dtype: int64"
      ]
     },
     "execution_count": 94,
     "metadata": {},
     "output_type": "execute_result"
    }
   ],
   "source": [
    "country_counts = adult_df['NATIVE_COUNTRY'].value_counts()\n",
    "\n",
    "# Display the country counts\n",
    "country_counts"
   ]
  },
  {
   "cell_type": "markdown",
   "id": "b31e365c",
   "metadata": {},
   "source": [
    "Here in the adult_df, NATIVE_COUNTRY column United_states has almost 90% of the values where as all the other countries contribute to the remaining 10% so this column wouldn't have enough diversity to account for predictor so it is better to drop this column for better analysis and accurate prediction."
   ]
  },
  {
   "cell_type": "code",
   "execution_count": 95,
   "id": "20bb108c",
   "metadata": {
    "tags": []
   },
   "outputs": [],
   "source": [
    "columns_to_drop = ['RELATIONSHIP', 'EDUCATION_NUM','FNLWGT','NATIVE_COUNTRY', 'OCCUPATION']\n",
    "adult_df = adult_df.drop(columns=columns_to_drop, axis=1)"
   ]
  },
  {
   "cell_type": "code",
   "execution_count": 96,
   "id": "75366acc",
   "metadata": {
    "tags": []
   },
   "outputs": [
    {
     "data": {
      "text/html": [
       "<div>\n",
       "<style scoped>\n",
       "    .dataframe tbody tr th:only-of-type {\n",
       "        vertical-align: middle;\n",
       "    }\n",
       "\n",
       "    .dataframe tbody tr th {\n",
       "        vertical-align: top;\n",
       "    }\n",
       "\n",
       "    .dataframe thead th {\n",
       "        text-align: right;\n",
       "    }\n",
       "</style>\n",
       "<table border=\"1\" class=\"dataframe\">\n",
       "  <thead>\n",
       "    <tr style=\"text-align: right;\">\n",
       "      <th></th>\n",
       "      <th>AGE</th>\n",
       "      <th>WORK_CLASS</th>\n",
       "      <th>EDUCATION</th>\n",
       "      <th>MARITAL_STATUS</th>\n",
       "      <th>RACE</th>\n",
       "      <th>SEX</th>\n",
       "      <th>CAPITAL_GAIN</th>\n",
       "      <th>CAPITAL_LOSS</th>\n",
       "      <th>HOURS_PER_WEEK</th>\n",
       "      <th>INCOME_ADJUSTED</th>\n",
       "    </tr>\n",
       "  </thead>\n",
       "  <tbody>\n",
       "    <tr>\n",
       "      <th>0</th>\n",
       "      <td>39</td>\n",
       "      <td>State-gov</td>\n",
       "      <td>Bachelors</td>\n",
       "      <td>Never-married</td>\n",
       "      <td>White</td>\n",
       "      <td>Male</td>\n",
       "      <td>2174</td>\n",
       "      <td>0</td>\n",
       "      <td>40</td>\n",
       "      <td>&lt;=104K</td>\n",
       "    </tr>\n",
       "    <tr>\n",
       "      <th>1</th>\n",
       "      <td>50</td>\n",
       "      <td>Self-emp-not-inc</td>\n",
       "      <td>Bachelors</td>\n",
       "      <td>Married-civ-spouse</td>\n",
       "      <td>White</td>\n",
       "      <td>Male</td>\n",
       "      <td>0</td>\n",
       "      <td>0</td>\n",
       "      <td>13</td>\n",
       "      <td>&lt;=104K</td>\n",
       "    </tr>\n",
       "    <tr>\n",
       "      <th>2</th>\n",
       "      <td>38</td>\n",
       "      <td>Private</td>\n",
       "      <td>HS-grad</td>\n",
       "      <td>Divorced</td>\n",
       "      <td>White</td>\n",
       "      <td>Male</td>\n",
       "      <td>0</td>\n",
       "      <td>0</td>\n",
       "      <td>40</td>\n",
       "      <td>&lt;=104K</td>\n",
       "    </tr>\n",
       "    <tr>\n",
       "      <th>3</th>\n",
       "      <td>53</td>\n",
       "      <td>Private</td>\n",
       "      <td>11th</td>\n",
       "      <td>Married-civ-spouse</td>\n",
       "      <td>Black</td>\n",
       "      <td>Male</td>\n",
       "      <td>0</td>\n",
       "      <td>0</td>\n",
       "      <td>40</td>\n",
       "      <td>&lt;=104K</td>\n",
       "    </tr>\n",
       "    <tr>\n",
       "      <th>4</th>\n",
       "      <td>28</td>\n",
       "      <td>Private</td>\n",
       "      <td>Bachelors</td>\n",
       "      <td>Married-civ-spouse</td>\n",
       "      <td>Black</td>\n",
       "      <td>Female</td>\n",
       "      <td>0</td>\n",
       "      <td>0</td>\n",
       "      <td>40</td>\n",
       "      <td>&lt;=104K</td>\n",
       "    </tr>\n",
       "    <tr>\n",
       "      <th>5</th>\n",
       "      <td>37</td>\n",
       "      <td>Private</td>\n",
       "      <td>Masters</td>\n",
       "      <td>Married-civ-spouse</td>\n",
       "      <td>White</td>\n",
       "      <td>Female</td>\n",
       "      <td>0</td>\n",
       "      <td>0</td>\n",
       "      <td>40</td>\n",
       "      <td>&lt;=104K</td>\n",
       "    </tr>\n",
       "    <tr>\n",
       "      <th>6</th>\n",
       "      <td>49</td>\n",
       "      <td>Private</td>\n",
       "      <td>9th</td>\n",
       "      <td>Married-spouse-absent</td>\n",
       "      <td>Black</td>\n",
       "      <td>Female</td>\n",
       "      <td>0</td>\n",
       "      <td>0</td>\n",
       "      <td>16</td>\n",
       "      <td>&lt;=104K</td>\n",
       "    </tr>\n",
       "    <tr>\n",
       "      <th>7</th>\n",
       "      <td>52</td>\n",
       "      <td>Self-emp-not-inc</td>\n",
       "      <td>HS-grad</td>\n",
       "      <td>Married-civ-spouse</td>\n",
       "      <td>White</td>\n",
       "      <td>Male</td>\n",
       "      <td>0</td>\n",
       "      <td>0</td>\n",
       "      <td>45</td>\n",
       "      <td>&gt;104K</td>\n",
       "    </tr>\n",
       "    <tr>\n",
       "      <th>8</th>\n",
       "      <td>31</td>\n",
       "      <td>Private</td>\n",
       "      <td>Masters</td>\n",
       "      <td>Never-married</td>\n",
       "      <td>White</td>\n",
       "      <td>Female</td>\n",
       "      <td>14084</td>\n",
       "      <td>0</td>\n",
       "      <td>50</td>\n",
       "      <td>&gt;104K</td>\n",
       "    </tr>\n",
       "    <tr>\n",
       "      <th>9</th>\n",
       "      <td>42</td>\n",
       "      <td>Private</td>\n",
       "      <td>Bachelors</td>\n",
       "      <td>Married-civ-spouse</td>\n",
       "      <td>White</td>\n",
       "      <td>Male</td>\n",
       "      <td>5178</td>\n",
       "      <td>0</td>\n",
       "      <td>40</td>\n",
       "      <td>&gt;104K</td>\n",
       "    </tr>\n",
       "  </tbody>\n",
       "</table>\n",
       "</div>"
      ],
      "text/plain": [
       "   AGE        WORK_CLASS  EDUCATION         MARITAL_STATUS   RACE     SEX  \\\n",
       "0   39         State-gov  Bachelors          Never-married  White    Male   \n",
       "1   50  Self-emp-not-inc  Bachelors     Married-civ-spouse  White    Male   \n",
       "2   38           Private    HS-grad               Divorced  White    Male   \n",
       "3   53           Private       11th     Married-civ-spouse  Black    Male   \n",
       "4   28           Private  Bachelors     Married-civ-spouse  Black  Female   \n",
       "5   37           Private    Masters     Married-civ-spouse  White  Female   \n",
       "6   49           Private        9th  Married-spouse-absent  Black  Female   \n",
       "7   52  Self-emp-not-inc    HS-grad     Married-civ-spouse  White    Male   \n",
       "8   31           Private    Masters          Never-married  White  Female   \n",
       "9   42           Private  Bachelors     Married-civ-spouse  White    Male   \n",
       "\n",
       "   CAPITAL_GAIN  CAPITAL_LOSS  HOURS_PER_WEEK INCOME_ADJUSTED  \n",
       "0          2174             0              40          <=104K  \n",
       "1             0             0              13          <=104K  \n",
       "2             0             0              40          <=104K  \n",
       "3             0             0              40          <=104K  \n",
       "4             0             0              40          <=104K  \n",
       "5             0             0              40          <=104K  \n",
       "6             0             0              16          <=104K  \n",
       "7             0             0              45           >104K  \n",
       "8         14084             0              50           >104K  \n",
       "9          5178             0              40           >104K  "
      ]
     },
     "execution_count": 96,
     "metadata": {},
     "output_type": "execute_result"
    }
   ],
   "source": [
    "adult_df.head(10)"
   ]
  },
  {
   "cell_type": "markdown",
   "id": "384564d0",
   "metadata": {},
   "source": [
    "## 5. Identify Categorical data"
   ]
  },
  {
   "cell_type": "markdown",
   "id": "8d6f72c0",
   "metadata": {},
   "source": [
    "Categorical data pertains to the representation of distinct categories and should not be manipulated as numerical values because it lacks quantitative attributes. To do that we need to look at the datatypes of all the columns. Let's do it."
   ]
  },
  {
   "cell_type": "code",
   "execution_count": 97,
   "id": "026aaf7c",
   "metadata": {
    "tags": []
   },
   "outputs": [
    {
     "data": {
      "text/plain": [
       "AGE                 int64\n",
       "WORK_CLASS         object\n",
       "EDUCATION          object\n",
       "MARITAL_STATUS     object\n",
       "RACE               object\n",
       "SEX                object\n",
       "CAPITAL_GAIN        int64\n",
       "CAPITAL_LOSS        int64\n",
       "HOURS_PER_WEEK      int64\n",
       "INCOME_ADJUSTED    object\n",
       "dtype: object"
      ]
     },
     "execution_count": 97,
     "metadata": {},
     "output_type": "execute_result"
    }
   ],
   "source": [
    "adult_df.dtypes"
   ]
  },
  {
   "cell_type": "markdown",
   "id": "244d26bc",
   "metadata": {},
   "source": [
    "Here we have WORKCLASS,EDUCATION,MARITAL_STATUS, RACE and SEX where we will be converting the INCOME_ADJUSTED(Target) into a binary categorical variable later in the notebook after changing the data types of the above mentioned columns. The categorical variable columns are currently categorized as 'object' data type. This is a broad data type, but we aim to convert it into a categorical type. Consequently, we need to transform the columns from 'object' to 'categorical.'"
   ]
  },
  {
   "cell_type": "code",
   "execution_count": 98,
   "id": "f00ea273",
   "metadata": {
    "tags": []
   },
   "outputs": [
    {
     "name": "stdout",
     "output_type": "stream",
     "text": [
      "Column: AGE, Unique Values: [39 50 38 53 28 37 49 52 31 42 30 23 32 40 34 25 43 54 35 59 56 19 20 45\n",
      " 22 48 21 24 57 44 41 29 18 47 46 36 79 27 67 33 76 17 55 61 70 64 71 68\n",
      " 66 51 58 26 60 90 75 65 77 62 63 80 72 74 69 73 81 78 88 82 83 84 85 86\n",
      " 87 89]\n",
      "Column: WORK_CLASS, Unique Values: ['State-gov' 'Self-emp-not-inc' 'Private' 'Federal-gov' 'Local-gov' '?'\n",
      " 'Self-emp-inc' 'Without-pay' 'Never-worked' nan]\n",
      "Column: EDUCATION, Unique Values: ['Bachelors' 'HS-grad' '11th' 'Masters' '9th' 'Some-college' 'Assoc-acdm'\n",
      " 'Assoc-voc' '7th-8th' 'Doctorate' 'Prof-school' '5th-6th' '10th'\n",
      " '1st-4th' 'Preschool' '12th']\n",
      "Column: MARITAL_STATUS, Unique Values: ['Never-married' 'Married-civ-spouse' 'Divorced' 'Married-spouse-absent'\n",
      " 'Separated' 'Married-AF-spouse' 'Widowed']\n",
      "Column: RACE, Unique Values: ['White' 'Black' 'Asian-Pac-Islander' 'Amer-Indian-Eskimo' 'Other']\n",
      "Column: SEX, Unique Values: ['Male' 'Female']\n",
      "Column: CAPITAL_GAIN, Unique Values: [ 2174     0 14084  5178  5013  2407 14344 15024  7688 34095  4064  4386\n",
      "  7298  1409  3674  1055  3464  2050  2176   594 20051  6849  4101  1111\n",
      "  8614  3411  2597 25236  4650  9386  2463  3103 10605  2964  3325  2580\n",
      "  3471  4865 99999  6514  1471  2329  2105  2885 25124 10520  2202  2961\n",
      " 27828  6767  2228  1506 13550  2635  5556  4787  3781  3137  3818  3942\n",
      "   914   401  2829  2977  4934  2062  2354  5455 15020  1424  3273 22040\n",
      "  4416  3908 10566   991  4931  1086  7430  6497   114  7896  2346  3418\n",
      "  3432  2907  1151  2414  2290 15831 41310  4508  2538  3456  6418  1848\n",
      "  3887  5721  9562  1455  2036  1831 11678  2936  2993  7443  6360  1797\n",
      "  1173  4687  6723  2009  6097  2653  1639 18481  7978  2387  5060  1264\n",
      "  7262  1731  6612]\n",
      "Column: CAPITAL_LOSS, Unique Values: [   0 2042 1408 1902 1573 1887 1719 1762 1564 2179 1816 1980 1977 1876\n",
      " 1340 2206 1741 1485 2339 2415 1380 1721 2051 2377 1669 2352 1672  653\n",
      " 2392 1504 2001 1590 1651 1628 1848 1740 2002 1579 2258 1602  419 2547\n",
      " 2174 2205 1726 2444 1138 2238  625  213 1539  880 1668 1092 1594 3004\n",
      " 2231 1844  810 2824 2559 2057 1974  974 2149 1825 1735 1258 2129 2603\n",
      " 2282  323 4356 2246 1617 1648 2489 3770 1755 3683 2267 2080 2457  155\n",
      " 3900 2201 1944 2467 2163 2754 2472 1411 1429 3175 1510 1870 1911 2465\n",
      " 1421]\n",
      "Column: HOURS_PER_WEEK, Unique Values: [40 13 16 45 50 80 30 35 60 20 52 44 15 25 38 43 55 48 58 32 70  2 22 56\n",
      " 41 28 36 24 46 42 12 65  1 10 34 75 98 33 54  8  6 64 19 18 72  5  9 47\n",
      " 37 21 26 14  4 59  7 99 53 39 62 57 78 90 66 11 49 84  3 17 68 27 85 31\n",
      " 51 77 63 23 87 88 73 89 97 94 29 96 67 82 86 91 81 76 92 61 74 95 79 69]\n",
      "Column: INCOME_ADJUSTED, Unique Values: ['<=104K' '>104K']\n"
     ]
    }
   ],
   "source": [
    "for col in adult_df.columns:\n",
    "    unique_values = adult_df[col].unique()\n",
    "    print(f\"Column: {col}, Unique Values: {unique_values}\")"
   ]
  },
  {
   "cell_type": "code",
   "execution_count": 99,
   "id": "478192ad",
   "metadata": {
    "tags": []
   },
   "outputs": [],
   "source": [
    "col_dtypes = {'WORK_CLASS':'category','EDUCATION':'category','MARITAL_STATUS':'category',\n",
    "              'RACE':'category','SEX':'category','INCOME_ADJUSTED':'category'}\n",
    "adult_df = adult_df.astype(col_dtypes)"
   ]
  },
  {
   "cell_type": "code",
   "execution_count": 100,
   "id": "615e9ce6",
   "metadata": {
    "tags": []
   },
   "outputs": [
    {
     "name": "stdout",
     "output_type": "stream",
     "text": [
      "AGE                   int64\n",
      "WORK_CLASS         category\n",
      "EDUCATION          category\n",
      "MARITAL_STATUS     category\n",
      "RACE               category\n",
      "SEX                category\n",
      "CAPITAL_GAIN          int64\n",
      "CAPITAL_LOSS          int64\n",
      "HOURS_PER_WEEK        int64\n",
      "INCOME_ADJUSTED    category\n",
      "dtype: object\n"
     ]
    }
   ],
   "source": [
    "print(adult_df.dtypes)"
   ]
  },
  {
   "cell_type": "markdown",
   "id": "a09d9ca9",
   "metadata": {},
   "source": [
    "## 6. Identify & handle missing data"
   ]
  },
  {
   "cell_type": "markdown",
   "id": "549c6a29",
   "metadata": {},
   "source": [
    "First let's look at the missing values in this dataframe to impute or replace them"
   ]
  },
  {
   "cell_type": "code",
   "execution_count": 101,
   "id": "a0739bb1",
   "metadata": {
    "tags": []
   },
   "outputs": [
    {
     "data": {
      "text/plain": [
       "AGE                  0\n",
       "WORK_CLASS         963\n",
       "EDUCATION            0\n",
       "MARITAL_STATUS       0\n",
       "RACE                 0\n",
       "SEX                  0\n",
       "CAPITAL_GAIN         0\n",
       "CAPITAL_LOSS         0\n",
       "HOURS_PER_WEEK       0\n",
       "INCOME_ADJUSTED      0\n",
       "dtype: int64"
      ]
     },
     "execution_count": 101,
     "metadata": {},
     "output_type": "execute_result"
    }
   ],
   "source": [
    "adult_df.isna().sum()"
   ]
  },
  {
   "cell_type": "code",
   "execution_count": 102,
   "id": "01a141d2",
   "metadata": {
    "tags": []
   },
   "outputs": [
    {
     "name": "stdout",
     "output_type": "stream",
     "text": [
      "1836\n"
     ]
    }
   ],
   "source": [
    "missing_counts = (adult_df['WORK_CLASS'] == '?').sum()\n",
    "print(missing_counts)"
   ]
  },
  {
   "cell_type": "markdown",
   "id": "94e9e8c5",
   "metadata": {},
   "source": [
    "There are missing values in WORK_CLASS column. \n",
    "Usually there will be two approaches while dealing with missing values, we approach this problem either by imputing the missing values(replacing it with mean, median or mode depending on the datatype of the column) or drop the column if the threshold of missing values is high and there will be no significant insight provided by the column in classifying the target variable. In WORK_CLASS column we also have values with '?' where we don't know the value in there. So overall missing values account for 5% of the total instances. It is imperative to drop the columns with 10% missing rows as it would account in data leakage if we impute them or would lose significant information if we drop the column. "
   ]
  },
  {
   "cell_type": "markdown",
   "id": "502df7ec",
   "metadata": {},
   "source": [
    "### Imputing missing values"
   ]
  },
  {
   "cell_type": "markdown",
   "id": "36a699af",
   "metadata": {},
   "source": [
    "Now we have only 2799(? and NaN) missing values, out of 48842 which is just 5% so we might gain important insight about the distribution of income if we retain WORK_CLASS column rather than dropping it. Since it is a categorical variable we impute them using mode the value that occured frequently in the column. Below we are replacing '?' with NaN values then imputing it using `SimpleImputer`."
   ]
  },
  {
   "cell_type": "code",
   "execution_count": 103,
   "id": "1614ac06",
   "metadata": {
    "tags": []
   },
   "outputs": [],
   "source": [
    "#Replace '?' values with NaN values so that we can impute them with mode.\n",
    "adult_df['WORK_CLASS'].replace('?', np.nan, inplace=True)\n",
    "\n",
    "col_name = \"WORK_CLASS\"\n",
    "\n",
    "# Create a SimpleImputer object for imputing with the mode\n",
    "imputer = SimpleImputer(strategy=\"most_frequent\")\n",
    "\n",
    "# Fit the imputer on the specified column\n",
    "imputer.fit(adult_df[['WORK_CLASS']])\n",
    "\n",
    "# Impute missing values in the specified column\n",
    "adult_df['WORK_CLASS'] = imputer.transform(adult_df[['WORK_CLASS']])"
   ]
  },
  {
   "cell_type": "code",
   "execution_count": 104,
   "id": "4465fa36",
   "metadata": {
    "scrolled": true,
    "tags": []
   },
   "outputs": [
    {
     "data": {
      "text/plain": [
       "AGE                0\n",
       "WORK_CLASS         0\n",
       "EDUCATION          0\n",
       "MARITAL_STATUS     0\n",
       "RACE               0\n",
       "SEX                0\n",
       "CAPITAL_GAIN       0\n",
       "CAPITAL_LOSS       0\n",
       "HOURS_PER_WEEK     0\n",
       "INCOME_ADJUSTED    0\n",
       "dtype: int64"
      ]
     },
     "execution_count": 104,
     "metadata": {},
     "output_type": "execute_result"
    }
   ],
   "source": [
    "adult_df.isna().sum()"
   ]
  },
  {
   "cell_type": "markdown",
   "id": "5fbe19ce-05c7-4b04-adc6-d76dfa074b66",
   "metadata": {},
   "source": [
    "Now we have no missing values let's go ahead and do the encoding for the categorical variables."
   ]
  },
  {
   "cell_type": "markdown",
   "id": "a07650b0-d2c5-42ea-90e0-16cb5a1e0c12",
   "metadata": {},
   "source": [
    "Looking for relationships among the variables adult_df"
   ]
  },
  {
   "cell_type": "code",
   "execution_count": 105,
   "id": "a050c821-604f-41b5-9465-3679345ecd23",
   "metadata": {
    "tags": []
   },
   "outputs": [
    {
     "data": {
      "image/png": "[encoded data removed]",
      "text/plain": [
       "<Figure size 1000x500 with 1 Axes>"
      ]
     },
     "metadata": {},
     "output_type": "display_data"
    }
   ],
   "source": [
    "# Filter data for different income categories\n",
    "income_gt_104k = adult_df[adult_df['INCOME_ADJUSTED'] == '>104K']\n",
    "income_le_104k = adult_df[adult_df['INCOME_ADJUSTED'] == '<=104K']\n",
    "\n",
    "# Create a histogram of age for income > 104K\n",
    "plt.figure(figsize=(10, 5))\n",
    "plt.hist(income_gt_104k['AGE'], bins=20, alpha=0.5, color='blue', label='Income > $104K')\n",
    "plt.hist(income_le_104k['AGE'], bins=20, alpha=0.5, color='red', label='Income <= $104K')\n",
    "plt.xlabel('Age')\n",
    "plt.ylabel('Count')\n",
    "plt.title('Age Distribution by Income')\n",
    "plt.legend()\n",
    "plt.show()"
   ]
  },
  {
   "cell_type": "code",
   "execution_count": 106,
   "id": "55aaa4e0-1f98-4832-8bab-8bdac37da944",
   "metadata": {
    "tags": []
   },
   "outputs": [
    {
     "data": {
      "image/png": "[encoded data removed]",
      "text/plain": [
       "<Figure size 1000x500 with 1 Axes>"
      ]
     },
     "metadata": {},
     "output_type": "display_data"
    }
   ],
   "source": [
    "# Create a histogram of education for income > 50K\n",
    "plt.figure(figsize=(10, 5))\n",
    "plt.hist(income_gt_104k['EDUCATION'], bins=15, alpha=0.5, color='blue', label='Income > $104K')\n",
    "plt.hist(income_le_104k['EDUCATION'], bins=15, alpha=0.5, color='red', label='Income <= $104K')\n",
    "plt.xlabel('Education Level')\n",
    "plt.ylabel('Count')\n",
    "plt.title('Education Level Distribution by Income')\n",
    "plt.xticks(rotation=45)  # Rotate x-axis labels for readability\n",
    "plt.legend()\n",
    "plt.show()"
   ]
  },
  {
   "cell_type": "markdown",
   "id": "371c5c53",
   "metadata": {},
   "source": [
    "## 7. Converting Categorical data into dummy variables"
   ]
  },
  {
   "cell_type": "markdown",
   "id": "7f15fba7",
   "metadata": {},
   "source": [
    "Pandas provides a method to convert factors into dummy variables \n",
    "\n",
    "When we encounter categorical variables, we must utilize a method like dummy variable encoding or one-hot encoding. Since our target variable 'INCOME_ADJUSTED' is a binary we are encoding/mapping it >104k as 1 and <=104k as 0."
   ]
  },
  {
   "cell_type": "code",
   "execution_count": 107,
   "id": "f69fb4b9",
   "metadata": {
    "tags": []
   },
   "outputs": [
    {
     "data": {
      "text/plain": [
       "['<=104K', '>104K']\n",
       "Categories (2, object): ['<=104K', '>104K']"
      ]
     },
     "execution_count": 107,
     "metadata": {},
     "output_type": "execute_result"
    }
   ],
   "source": [
    "adult_df['INCOME_ADJUSTED'].unique()"
   ]
  },
  {
   "cell_type": "code",
   "execution_count": 108,
   "id": "6942aa48",
   "metadata": {
    "tags": []
   },
   "outputs": [
    {
     "data": {
      "text/plain": [
       "0        <=104K\n",
       "1        <=104K\n",
       "2        <=104K\n",
       "3        <=104K\n",
       "4        <=104K\n",
       "          ...  \n",
       "48837    <=104K\n",
       "48838    <=104K\n",
       "48839    <=104K\n",
       "48840    <=104K\n",
       "48841     >104K\n",
       "Name: INCOME_ADJUSTED, Length: 48842, dtype: object"
      ]
     },
     "execution_count": 108,
     "metadata": {},
     "output_type": "execute_result"
    }
   ],
   "source": [
    "adult_df['INCOME_ADJUSTED'].str.strip()"
   ]
  },
  {
   "cell_type": "code",
   "execution_count": 109,
   "id": "6a0fdd2b",
   "metadata": {
    "tags": []
   },
   "outputs": [
    {
     "data": {
      "text/html": [
       "<div>\n",
       "<style scoped>\n",
       "    .dataframe tbody tr th:only-of-type {\n",
       "        vertical-align: middle;\n",
       "    }\n",
       "\n",
       "    .dataframe tbody tr th {\n",
       "        vertical-align: top;\n",
       "    }\n",
       "\n",
       "    .dataframe thead th {\n",
       "        text-align: right;\n",
       "    }\n",
       "</style>\n",
       "<table border=\"1\" class=\"dataframe\">\n",
       "  <thead>\n",
       "    <tr style=\"text-align: right;\">\n",
       "      <th></th>\n",
       "      <th>AGE</th>\n",
       "      <th>CAPITAL_GAIN</th>\n",
       "      <th>CAPITAL_LOSS</th>\n",
       "      <th>HOURS_PER_WEEK</th>\n",
       "      <th>INCOME_ADJUSTED</th>\n",
       "      <th>WORK_CLASS_Federal-gov</th>\n",
       "      <th>WORK_CLASS_Local-gov</th>\n",
       "      <th>WORK_CLASS_Never-worked</th>\n",
       "      <th>WORK_CLASS_Private</th>\n",
       "      <th>WORK_CLASS_Self-emp-inc</th>\n",
       "      <th>...</th>\n",
       "      <th>EDUCATION_9th</th>\n",
       "      <th>EDUCATION_Assoc-acdm</th>\n",
       "      <th>EDUCATION_Assoc-voc</th>\n",
       "      <th>EDUCATION_Bachelors</th>\n",
       "      <th>EDUCATION_Doctorate</th>\n",
       "      <th>EDUCATION_HS-grad</th>\n",
       "      <th>EDUCATION_Masters</th>\n",
       "      <th>EDUCATION_Preschool</th>\n",
       "      <th>EDUCATION_Prof-school</th>\n",
       "      <th>EDUCATION_Some-college</th>\n",
       "    </tr>\n",
       "  </thead>\n",
       "  <tbody>\n",
       "    <tr>\n",
       "      <th>0</th>\n",
       "      <td>39</td>\n",
       "      <td>2174</td>\n",
       "      <td>0</td>\n",
       "      <td>40</td>\n",
       "      <td>&lt;=104K</td>\n",
       "      <td>0</td>\n",
       "      <td>0</td>\n",
       "      <td>0</td>\n",
       "      <td>0</td>\n",
       "      <td>0</td>\n",
       "      <td>...</td>\n",
       "      <td>0</td>\n",
       "      <td>0</td>\n",
       "      <td>0</td>\n",
       "      <td>1</td>\n",
       "      <td>0</td>\n",
       "      <td>0</td>\n",
       "      <td>0</td>\n",
       "      <td>0</td>\n",
       "      <td>0</td>\n",
       "      <td>0</td>\n",
       "    </tr>\n",
       "    <tr>\n",
       "      <th>1</th>\n",
       "      <td>50</td>\n",
       "      <td>0</td>\n",
       "      <td>0</td>\n",
       "      <td>13</td>\n",
       "      <td>&lt;=104K</td>\n",
       "      <td>0</td>\n",
       "      <td>0</td>\n",
       "      <td>0</td>\n",
       "      <td>0</td>\n",
       "      <td>0</td>\n",
       "      <td>...</td>\n",
       "      <td>0</td>\n",
       "      <td>0</td>\n",
       "      <td>0</td>\n",
       "      <td>1</td>\n",
       "      <td>0</td>\n",
       "      <td>0</td>\n",
       "      <td>0</td>\n",
       "      <td>0</td>\n",
       "      <td>0</td>\n",
       "      <td>0</td>\n",
       "    </tr>\n",
       "    <tr>\n",
       "      <th>2</th>\n",
       "      <td>38</td>\n",
       "      <td>0</td>\n",
       "      <td>0</td>\n",
       "      <td>40</td>\n",
       "      <td>&lt;=104K</td>\n",
       "      <td>0</td>\n",
       "      <td>0</td>\n",
       "      <td>0</td>\n",
       "      <td>1</td>\n",
       "      <td>0</td>\n",
       "      <td>...</td>\n",
       "      <td>0</td>\n",
       "      <td>0</td>\n",
       "      <td>0</td>\n",
       "      <td>0</td>\n",
       "      <td>0</td>\n",
       "      <td>1</td>\n",
       "      <td>0</td>\n",
       "      <td>0</td>\n",
       "      <td>0</td>\n",
       "      <td>0</td>\n",
       "    </tr>\n",
       "    <tr>\n",
       "      <th>3</th>\n",
       "      <td>53</td>\n",
       "      <td>0</td>\n",
       "      <td>0</td>\n",
       "      <td>40</td>\n",
       "      <td>&lt;=104K</td>\n",
       "      <td>0</td>\n",
       "      <td>0</td>\n",
       "      <td>0</td>\n",
       "      <td>1</td>\n",
       "      <td>0</td>\n",
       "      <td>...</td>\n",
       "      <td>0</td>\n",
       "      <td>0</td>\n",
       "      <td>0</td>\n",
       "      <td>0</td>\n",
       "      <td>0</td>\n",
       "      <td>0</td>\n",
       "      <td>0</td>\n",
       "      <td>0</td>\n",
       "      <td>0</td>\n",
       "      <td>0</td>\n",
       "    </tr>\n",
       "    <tr>\n",
       "      <th>4</th>\n",
       "      <td>28</td>\n",
       "      <td>0</td>\n",
       "      <td>0</td>\n",
       "      <td>40</td>\n",
       "      <td>&lt;=104K</td>\n",
       "      <td>0</td>\n",
       "      <td>0</td>\n",
       "      <td>0</td>\n",
       "      <td>1</td>\n",
       "      <td>0</td>\n",
       "      <td>...</td>\n",
       "      <td>0</td>\n",
       "      <td>0</td>\n",
       "      <td>0</td>\n",
       "      <td>1</td>\n",
       "      <td>0</td>\n",
       "      <td>0</td>\n",
       "      <td>0</td>\n",
       "      <td>0</td>\n",
       "      <td>0</td>\n",
       "      <td>0</td>\n",
       "    </tr>\n",
       "    <tr>\n",
       "      <th>5</th>\n",
       "      <td>37</td>\n",
       "      <td>0</td>\n",
       "      <td>0</td>\n",
       "      <td>40</td>\n",
       "      <td>&lt;=104K</td>\n",
       "      <td>0</td>\n",
       "      <td>0</td>\n",
       "      <td>0</td>\n",
       "      <td>1</td>\n",
       "      <td>0</td>\n",
       "      <td>...</td>\n",
       "      <td>0</td>\n",
       "      <td>0</td>\n",
       "      <td>0</td>\n",
       "      <td>0</td>\n",
       "      <td>0</td>\n",
       "      <td>0</td>\n",
       "      <td>1</td>\n",
       "      <td>0</td>\n",
       "      <td>0</td>\n",
       "      <td>0</td>\n",
       "    </tr>\n",
       "    <tr>\n",
       "      <th>6</th>\n",
       "      <td>49</td>\n",
       "      <td>0</td>\n",
       "      <td>0</td>\n",
       "      <td>16</td>\n",
       "      <td>&lt;=104K</td>\n",
       "      <td>0</td>\n",
       "      <td>0</td>\n",
       "      <td>0</td>\n",
       "      <td>1</td>\n",
       "      <td>0</td>\n",
       "      <td>...</td>\n",
       "      <td>1</td>\n",
       "      <td>0</td>\n",
       "      <td>0</td>\n",
       "      <td>0</td>\n",
       "      <td>0</td>\n",
       "      <td>0</td>\n",
       "      <td>0</td>\n",
       "      <td>0</td>\n",
       "      <td>0</td>\n",
       "      <td>0</td>\n",
       "    </tr>\n",
       "    <tr>\n",
       "      <th>7</th>\n",
       "      <td>52</td>\n",
       "      <td>0</td>\n",
       "      <td>0</td>\n",
       "      <td>45</td>\n",
       "      <td>&gt;104K</td>\n",
       "      <td>0</td>\n",
       "      <td>0</td>\n",
       "      <td>0</td>\n",
       "      <td>0</td>\n",
       "      <td>0</td>\n",
       "      <td>...</td>\n",
       "      <td>0</td>\n",
       "      <td>0</td>\n",
       "      <td>0</td>\n",
       "      <td>0</td>\n",
       "      <td>0</td>\n",
       "      <td>1</td>\n",
       "      <td>0</td>\n",
       "      <td>0</td>\n",
       "      <td>0</td>\n",
       "      <td>0</td>\n",
       "    </tr>\n",
       "    <tr>\n",
       "      <th>8</th>\n",
       "      <td>31</td>\n",
       "      <td>14084</td>\n",
       "      <td>0</td>\n",
       "      <td>50</td>\n",
       "      <td>&gt;104K</td>\n",
       "      <td>0</td>\n",
       "      <td>0</td>\n",
       "      <td>0</td>\n",
       "      <td>1</td>\n",
       "      <td>0</td>\n",
       "      <td>...</td>\n",
       "      <td>0</td>\n",
       "      <td>0</td>\n",
       "      <td>0</td>\n",
       "      <td>0</td>\n",
       "      <td>0</td>\n",
       "      <td>0</td>\n",
       "      <td>1</td>\n",
       "      <td>0</td>\n",
       "      <td>0</td>\n",
       "      <td>0</td>\n",
       "    </tr>\n",
       "    <tr>\n",
       "      <th>9</th>\n",
       "      <td>42</td>\n",
       "      <td>5178</td>\n",
       "      <td>0</td>\n",
       "      <td>40</td>\n",
       "      <td>&gt;104K</td>\n",
       "      <td>0</td>\n",
       "      <td>0</td>\n",
       "      <td>0</td>\n",
       "      <td>1</td>\n",
       "      <td>0</td>\n",
       "      <td>...</td>\n",
       "      <td>0</td>\n",
       "      <td>0</td>\n",
       "      <td>0</td>\n",
       "      <td>1</td>\n",
       "      <td>0</td>\n",
       "      <td>0</td>\n",
       "      <td>0</td>\n",
       "      <td>0</td>\n",
       "      <td>0</td>\n",
       "      <td>0</td>\n",
       "    </tr>\n",
       "  </tbody>\n",
       "</table>\n",
       "<p>10 rows × 43 columns</p>\n",
       "</div>"
      ],
      "text/plain": [
       "   AGE  CAPITAL_GAIN  CAPITAL_LOSS  HOURS_PER_WEEK INCOME_ADJUSTED  \\\n",
       "0   39          2174             0              40          <=104K   \n",
       "1   50             0             0              13          <=104K   \n",
       "2   38             0             0              40          <=104K   \n",
       "3   53             0             0              40          <=104K   \n",
       "4   28             0             0              40          <=104K   \n",
       "5   37             0             0              40          <=104K   \n",
       "6   49             0             0              16          <=104K   \n",
       "7   52             0             0              45           >104K   \n",
       "8   31         14084             0              50           >104K   \n",
       "9   42          5178             0              40           >104K   \n",
       "\n",
       "   WORK_CLASS_Federal-gov  WORK_CLASS_Local-gov  WORK_CLASS_Never-worked  \\\n",
       "0                       0                     0                        0   \n",
       "1                       0                     0                        0   \n",
       "2                       0                     0                        0   \n",
       "3                       0                     0                        0   \n",
       "4                       0                     0                        0   \n",
       "5                       0                     0                        0   \n",
       "6                       0                     0                        0   \n",
       "7                       0                     0                        0   \n",
       "8                       0                     0                        0   \n",
       "9                       0                     0                        0   \n",
       "\n",
       "   WORK_CLASS_Private  WORK_CLASS_Self-emp-inc  ...  EDUCATION_9th  \\\n",
       "0                   0                        0  ...              0   \n",
       "1                   0                        0  ...              0   \n",
       "2                   1                        0  ...              0   \n",
       "3                   1                        0  ...              0   \n",
       "4                   1                        0  ...              0   \n",
       "5                   1                        0  ...              0   \n",
       "6                   1                        0  ...              1   \n",
       "7                   0                        0  ...              0   \n",
       "8                   1                        0  ...              0   \n",
       "9                   1                        0  ...              0   \n",
       "\n",
       "   EDUCATION_Assoc-acdm  EDUCATION_Assoc-voc  EDUCATION_Bachelors  \\\n",
       "0                     0                    0                    1   \n",
       "1                     0                    0                    1   \n",
       "2                     0                    0                    0   \n",
       "3                     0                    0                    0   \n",
       "4                     0                    0                    1   \n",
       "5                     0                    0                    0   \n",
       "6                     0                    0                    0   \n",
       "7                     0                    0                    0   \n",
       "8                     0                    0                    0   \n",
       "9                     0                    0                    1   \n",
       "\n",
       "   EDUCATION_Doctorate  EDUCATION_HS-grad  EDUCATION_Masters  \\\n",
       "0                    0                  0                  0   \n",
       "1                    0                  0                  0   \n",
       "2                    0                  1                  0   \n",
       "3                    0                  0                  0   \n",
       "4                    0                  0                  0   \n",
       "5                    0                  0                  1   \n",
       "6                    0                  0                  0   \n",
       "7                    0                  1                  0   \n",
       "8                    0                  0                  1   \n",
       "9                    0                  0                  0   \n",
       "\n",
       "   EDUCATION_Preschool  EDUCATION_Prof-school  EDUCATION_Some-college  \n",
       "0                    0                      0                       0  \n",
       "1                    0                      0                       0  \n",
       "2                    0                      0                       0  \n",
       "3                    0                      0                       0  \n",
       "4                    0                      0                       0  \n",
       "5                    0                      0                       0  \n",
       "6                    0                      0                       0  \n",
       "7                    0                      0                       0  \n",
       "8                    0                      0                       0  \n",
       "9                    0                      0                       0  \n",
       "\n",
       "[10 rows x 43 columns]"
      ]
     },
     "execution_count": 109,
     "metadata": {},
     "output_type": "execute_result"
    }
   ],
   "source": [
    "# List of categorical columns to be one-hot encoded\n",
    "categorical_columns = [\"WORK_CLASS\", \"MARITAL_STATUS\", \"SEX\",\"RACE\",\"EDUCATION\"]\n",
    "\n",
    "# Apply one-hot encoding to the specified columns\n",
    "adult_df = pd.get_dummies(adult_df, columns=categorical_columns)\n",
    "\n",
    "# Now, data_encoded contains the one-hot encoded categorical variables\n",
    "adult_df.head(10)"
   ]
  },
  {
   "cell_type": "markdown",
   "id": "a8a7c58e",
   "metadata": {},
   "source": [
    "Now we are done with encoding our categorical variables into dummies, imputing missing values and special characters in our dataset with mode and all other pre-processing steps. Our data pre-processing is complete, we store this cleaned data in our csv file for running our models for classification on our income_adjusted variable. "
   ]
  },
  {
   "cell_type": "code",
   "execution_count": 110,
   "id": "3deddcf5",
   "metadata": {
    "tags": []
   },
   "outputs": [],
   "source": [
    "adult_df.to_csv('adult_data.csv', index=False)"
   ]
  }
 ],
 "metadata": {
  "kernelspec": {
   "display_name": "Python 3 (ipykernel)",
   "language": "python",
   "name": "python3"
  },
  "language_info": {
   "codemirror_mode": {
    "name": "ipython",
    "version": 3
   },
   "file_extension": ".py",
   "mimetype": "text/x-python",
   "name": "python",
   "nbconvert_exporter": "python",
   "pygments_lexer": "ipython3",
   "version": "3.9.7"
  }
 },
 "nbformat": 4,
 "nbformat_minor": 5
}
